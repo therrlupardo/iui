{
 "cells": [
  {
   "cell_type": "code",
   "execution_count": 25,
   "metadata": {
    "collapsed": true
   },
   "outputs": [],
   "source": [
    "from pathlib import Path\n",
    "import os\n",
    "from shutil import move,copy"
   ]
  },
  {
   "cell_type": "code",
   "execution_count": 26,
   "outputs": [],
   "source": [
    "SOURCE_DATA_PATH = 'D:\\\\Studia\\\\magisterka\\\\sem2\\\\IUI\\\\data\\\\simple'\n",
    "DEST_DATA_PATH = 'D:\\\\Studia\\\\magisterka\\\\sem2\\\\IUI\\\\data\\\\subsets\\\\100percent'"
   ],
   "metadata": {
    "collapsed": false,
    "pycharm": {
     "name": "#%%\n"
    }
   }
  },
  {
   "cell_type": "code",
   "execution_count": 27,
   "outputs": [],
   "source": [
    "index = 0\n",
    "for filename in Path(SOURCE_DATA_PATH).glob('**/*.*'):\n",
    "    if index % 1 == 0:\n",
    "        class_name = str(filename).split('\\\\')[-2]\n",
    "        file_name = str(filename).split('\\\\')[-1]\n",
    "        dest_dir = os.path.join(DEST_DATA_PATH, class_name)\n",
    "        if not os.path.exists(dest_dir):\n",
    "            os.makedirs(dest_dir)\n",
    "        dest = os.path.join(dest_dir, file_name)\n",
    "        copy(filename, dest)\n",
    "    index += 1"
   ],
   "metadata": {
    "collapsed": false,
    "pycharm": {
     "name": "#%%\n"
    }
   }
  }
 ],
 "metadata": {
  "kernelspec": {
   "display_name": "Python 3",
   "language": "python",
   "name": "python3"
  },
  "language_info": {
   "codemirror_mode": {
    "name": "ipython",
    "version": 2
   },
   "file_extension": ".py",
   "mimetype": "text/x-python",
   "name": "python",
   "nbconvert_exporter": "python",
   "pygments_lexer": "ipython2",
   "version": "2.7.6"
  }
 },
 "nbformat": 4,
 "nbformat_minor": 0
}