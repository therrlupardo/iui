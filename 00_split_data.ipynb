{
 "cells": [
  {
   "cell_type": "markdown",
   "source": [
    "# Split dataset into smaller datasets"
   ],
   "metadata": {
    "collapsed": false
   }
  },
  {
   "cell_type": "code",
   "execution_count": 1,
   "metadata": {
    "collapsed": true
   },
   "outputs": [],
   "source": [
    "from pathlib import Path\n",
    "import os\n",
    "from shutil import move,copy\n",
    "from configuration import Configuration"
   ]
  },
  {
   "cell_type": "code",
   "execution_count": 2,
   "outputs": [],
   "source": [
    "SOURCE_DATA_PATH = os.path.join(Configuration.data_location, 'simple')\n",
    "DEST_DATA_PATH = os.path.join(Configuration.update_data_location, '100percent')\n",
    "# Set to true will copy files from source to dest. Otherwise will move them\n",
    "COPY_FILES = True\n",
    "# Operation affects each {GRANULATION} element of source dataset. For example moves every 10th item\n",
    "GRANULATION = 1"
   ],
   "metadata": {
    "collapsed": false,
    "pycharm": {
     "name": "#%%\n"
    }
   }
  },
  {
   "cell_type": "code",
   "execution_count": 3,
   "outputs": [],
   "source": [
    "index = 0\n",
    "for filename in Path(SOURCE_DATA_PATH).glob('**/*.*'):\n",
    "    if index % GRANULATION == 0:\n",
    "        class_name = str(filename).split('\\\\')[-2]\n",
    "        file_name = str(filename).split('\\\\')[-1]\n",
    "        dest_dir = os.path.join(DEST_DATA_PATH, class_name)\n",
    "        if not os.path.exists(dest_dir):\n",
    "            os.makedirs(dest_dir)\n",
    "        dest = os.path.join(dest_dir, file_name)\n",
    "        if COPY_FILES:\n",
    "            copy(filename, dest)\n",
    "        else:\n",
    "            move(filename, dest)\n",
    "    index += 1"
   ],
   "metadata": {
    "collapsed": false,
    "pycharm": {
     "name": "#%%\n"
    }
   }
  }
 ],
 "metadata": {
  "kernelspec": {
   "display_name": "Python 3",
   "language": "python",
   "name": "python3"
  },
  "language_info": {
   "codemirror_mode": {
    "name": "ipython",
    "version": 2
   },
   "file_extension": ".py",
   "mimetype": "text/x-python",
   "name": "python",
   "nbconvert_exporter": "python",
   "pygments_lexer": "ipython2",
   "version": "2.7.6"
  }
 },
 "nbformat": 4,
 "nbformat_minor": 0
}