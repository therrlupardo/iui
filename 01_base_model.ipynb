{
 "cells": [
  {
   "cell_type": "markdown",
   "source": [
    "# Training of base model"
   ],
   "metadata": {
    "collapsed": false
   }
  },
  {
   "cell_type": "code",
   "execution_count": 1,
   "metadata": {
    "collapsed": false,
    "jupyter": {
     "outputs_hidden": false
    },
    "pycharm": {
     "name": "#%%\n"
    }
   },
   "outputs": [],
   "source": [
    "import tensorflow as tf\n",
    "import os\n",
    "from tensorflow.keras import layers\n",
    "from tensorflow.keras.models import Sequential\n",
    "\n",
    "from utils.helper_utils import HelperUtils\n",
    "from configuration import Configuration"
   ]
  },
  {
   "cell_type": "code",
   "execution_count": 2,
   "metadata": {
    "pycharm": {
     "name": "#%%\n"
    },
    "tags": []
   },
   "outputs": [],
   "source": [
    "def prepare_datasets(data_dir):\n",
    "    train_ds = tf.keras.utils.image_dataset_from_directory(\n",
    "        data_dir,\n",
    "        validation_split=Configuration.validation_split,\n",
    "        subset=\"training\",\n",
    "        seed=123,\n",
    "        image_size=(Configuration.img_height, Configuration.img_width),\n",
    "        batch_size=Configuration.batch_size)\n",
    "\n",
    "    val_ds = tf.keras.utils.image_dataset_from_directory(\n",
    "        data_dir,\n",
    "        validation_split=Configuration.validation_split,\n",
    "        subset=\"validation\",\n",
    "        seed=123,\n",
    "        image_size=(Configuration.img_height, Configuration.img_width),\n",
    "        batch_size=Configuration.batch_size)\n",
    "\n",
    "    class_names = train_ds.class_names\n",
    "\n",
    "    num_classes = len(class_names)\n",
    "\n",
    "    return train_ds, val_ds, num_classes, class_names"
   ]
  },
  {
   "cell_type": "markdown",
   "source": [
    "Get train and validation datasets"
   ],
   "metadata": {
    "collapsed": false
   }
  },
  {
   "cell_type": "code",
   "execution_count": 3,
   "outputs": [
    {
     "name": "stdout",
     "output_type": "stream",
     "text": [
      "Found 76536 files belonging to 432 classes.\n",
      "Using 61229 files for training.\n",
      "Found 76536 files belonging to 432 classes.\n",
      "Using 15307 files for validation.\n"
     ]
    }
   ],
   "source": [
    "data_dir_name = \"simple\"\n",
    "initial_data_dir = os.path.abspath(os.path.join(Configuration.data_location, data_dir_name))\n",
    "initial_train_ds, initial_val_ds, initial_num_classes, class_names = prepare_datasets(initial_data_dir)"
   ],
   "metadata": {
    "collapsed": false,
    "pycharm": {
     "name": "#%%\n"
    }
   }
  },
  {
   "cell_type": "markdown",
   "source": [
    "Create model"
   ],
   "metadata": {
    "collapsed": false
   }
  },
  {
   "cell_type": "code",
   "execution_count": 4,
   "metadata": {
    "collapsed": false,
    "jupyter": {
     "outputs_hidden": false
    },
    "pycharm": {
     "name": "#%%\n"
    }
   },
   "outputs": [
    {
     "name": "stdout",
     "output_type": "stream",
     "text": [
      "Model: \"sequential\"\n",
      "_________________________________________________________________\n",
      " Layer (type)                Output Shape              Param #   \n",
      "=================================================================\n",
      " rescaling (Rescaling)       (None, 180, 180, 3)       0         \n",
      "                                                                 \n",
      " conv2d (Conv2D)             (None, 180, 180, 16)      448       \n",
      "                                                                 \n",
      " max_pooling2d (MaxPooling2D  (None, 90, 90, 16)       0         \n",
      " )                                                               \n",
      "                                                                 \n",
      " conv2d_1 (Conv2D)           (None, 90, 90, 32)        4640      \n",
      "                                                                 \n",
      " max_pooling2d_1 (MaxPooling  (None, 45, 45, 32)       0         \n",
      " 2D)                                                             \n",
      "                                                                 \n",
      " conv2d_2 (Conv2D)           (None, 45, 45, 64)        18496     \n",
      "                                                                 \n",
      " max_pooling2d_2 (MaxPooling  (None, 22, 22, 64)       0         \n",
      " 2D)                                                             \n",
      "                                                                 \n",
      " flatten (Flatten)           (None, 30976)             0         \n",
      "                                                                 \n",
      " dense (Dense)               (None, 512)               15860224  \n",
      "                                                                 \n",
      " dense_1 (Dense)             (None, 432)               221616    \n",
      "                                                                 \n",
      "=================================================================\n",
      "Total params: 16,105,424\n",
      "Trainable params: 16,105,424\n",
      "Non-trainable params: 0\n",
      "_________________________________________________________________\n"
     ]
    }
   ],
   "source": [
    "model = Sequential([\n",
    "    layers.Rescaling(1. / 255, input_shape=(Configuration.img_height, Configuration.img_width, 3)),\n",
    "    layers.Conv2D(16, 3, padding='same', activation='relu'),\n",
    "    layers.MaxPooling2D(),\n",
    "    layers.Conv2D(32, 3, padding='same', activation='relu'),\n",
    "    layers.MaxPooling2D(),\n",
    "    layers.Conv2D(64, 3, padding='same', activation='relu'),\n",
    "    layers.MaxPooling2D(),\n",
    "    layers.Flatten(),\n",
    "    layers.Dense(512, activation='relu'),\n",
    "    layers.Dense(initial_num_classes)\n",
    "])\n",
    "\n",
    "model.compile(optimizer='adam',\n",
    "              loss=tf.keras.losses.SparseCategoricalCrossentropy(\n",
    "                  from_logits=True),\n",
    "              metrics=['accuracy'])\n",
    "\n",
    "model.summary()"
   ]
  },
  {
   "cell_type": "markdown",
   "source": [
    "Train model"
   ],
   "metadata": {
    "collapsed": false
   }
  },
  {
   "cell_type": "code",
   "execution_count": 5,
   "metadata": {
    "collapsed": false,
    "jupyter": {
     "outputs_hidden": false
    },
    "pycharm": {
     "name": "#%%\n"
    }
   },
   "outputs": [
    {
     "name": "stdout",
     "output_type": "stream",
     "text": [
      "Epoch 1/50\n",
      "1914/1914 [==============================] - 78s 38ms/step - loss: 3.1457 - accuracy: 0.3331 - val_loss: 1.5885 - val_accuracy: 0.5876\n",
      "Epoch 2/50\n",
      "1914/1914 [==============================] - 73s 38ms/step - loss: 1.0371 - accuracy: 0.7193 - val_loss: 1.1249 - val_accuracy: 0.7079\n",
      "Epoch 3/50\n",
      "1914/1914 [==============================] - 72s 38ms/step - loss: 0.4946 - accuracy: 0.8575 - val_loss: 0.8082 - val_accuracy: 0.7930\n",
      "Epoch 4/50\n",
      "1914/1914 [==============================] - 73s 38ms/step - loss: 0.2947 - accuracy: 0.9104 - val_loss: 0.8334 - val_accuracy: 0.8074\n",
      "Epoch 5/50\n",
      "1914/1914 [==============================] - 71s 37ms/step - loss: 0.2160 - accuracy: 0.9340 - val_loss: 1.1071 - val_accuracy: 0.7617\n",
      "Epoch 6/50\n",
      "1914/1914 [==============================] - 69s 36ms/step - loss: 0.1662 - accuracy: 0.9479 - val_loss: 0.8413 - val_accuracy: 0.8422\n",
      "Epoch 7/50\n",
      "1914/1914 [==============================] - 69s 36ms/step - loss: 0.1450 - accuracy: 0.9556 - val_loss: 0.7715 - val_accuracy: 0.8637\n",
      "Epoch 8/50\n",
      "1914/1914 [==============================] - 70s 37ms/step - loss: 0.1174 - accuracy: 0.9644 - val_loss: 0.8069 - val_accuracy: 0.8641\n",
      "Epoch 9/50\n",
      "1914/1914 [==============================] - 71s 37ms/step - loss: 0.1189 - accuracy: 0.9637 - val_loss: 0.7865 - val_accuracy: 0.8673\n",
      "Epoch 10/50\n",
      "1914/1914 [==============================] - 71s 37ms/step - loss: 0.0976 - accuracy: 0.9701 - val_loss: 0.8951 - val_accuracy: 0.8590\n",
      "Epoch 11/50\n",
      "1914/1914 [==============================] - 71s 37ms/step - loss: 0.0947 - accuracy: 0.9717 - val_loss: 0.8926 - val_accuracy: 0.8558\n",
      "Epoch 12/50\n",
      "1914/1914 [==============================] - 71s 37ms/step - loss: 0.0836 - accuracy: 0.9755 - val_loss: 1.0298 - val_accuracy: 0.8478\n",
      "Epoch 13/50\n",
      "1914/1914 [==============================] - 71s 37ms/step - loss: 0.0804 - accuracy: 0.9764 - val_loss: 1.2034 - val_accuracy: 0.8260\n",
      "Epoch 14/50\n",
      "1914/1914 [==============================] - 71s 37ms/step - loss: 0.0763 - accuracy: 0.9776 - val_loss: 1.0422 - val_accuracy: 0.8548\n",
      "Epoch 15/50\n",
      "1914/1914 [==============================] - 71s 37ms/step - loss: 0.0725 - accuracy: 0.9789 - val_loss: 0.9520 - val_accuracy: 0.8731\n",
      "Epoch 16/50\n",
      "1914/1914 [==============================] - 71s 37ms/step - loss: 0.0657 - accuracy: 0.9812 - val_loss: 0.9610 - val_accuracy: 0.8752\n",
      "Epoch 17/50\n",
      "1914/1914 [==============================] - 71s 37ms/step - loss: 0.0688 - accuracy: 0.9810 - val_loss: 1.1760 - val_accuracy: 0.8482\n",
      "Epoch 18/50\n",
      "1914/1914 [==============================] - 71s 37ms/step - loss: 0.0638 - accuracy: 0.9820 - val_loss: 1.3183 - val_accuracy: 0.8418\n",
      "Epoch 19/50\n",
      "1914/1914 [==============================] - 71s 37ms/step - loss: 0.0608 - accuracy: 0.9830 - val_loss: 1.0712 - val_accuracy: 0.8665\n",
      "Epoch 20/50\n",
      "1914/1914 [==============================] - 71s 37ms/step - loss: 0.0570 - accuracy: 0.9839 - val_loss: 0.9953 - val_accuracy: 0.8737\n",
      "Epoch 21/50\n",
      "1914/1914 [==============================] - 71s 37ms/step - loss: 0.0501 - accuracy: 0.9866 - val_loss: 1.1128 - val_accuracy: 0.8705\n",
      "Epoch 22/50\n",
      "1914/1914 [==============================] - 71s 37ms/step - loss: 0.0643 - accuracy: 0.9827 - val_loss: 1.0137 - val_accuracy: 0.8787\n",
      "Epoch 23/50\n",
      "1914/1914 [==============================] - 71s 37ms/step - loss: 0.0549 - accuracy: 0.9854 - val_loss: 1.1160 - val_accuracy: 0.8739\n",
      "Epoch 24/50\n",
      "1914/1914 [==============================] - 71s 37ms/step - loss: 0.0524 - accuracy: 0.9866 - val_loss: 1.1981 - val_accuracy: 0.8755\n",
      "Epoch 25/50\n",
      "1914/1914 [==============================] - 72s 37ms/step - loss: 0.0522 - accuracy: 0.9861 - val_loss: 1.3577 - val_accuracy: 0.8566\n",
      "Epoch 26/50\n",
      "1914/1914 [==============================] - 71s 37ms/step - loss: 0.0529 - accuracy: 0.9862 - val_loss: 1.1740 - val_accuracy: 0.8772\n",
      "Epoch 27/50\n",
      "1914/1914 [==============================] - 71s 37ms/step - loss: 0.0548 - accuracy: 0.9865 - val_loss: 1.4691 - val_accuracy: 0.8510\n",
      "Epoch 28/50\n",
      "1914/1914 [==============================] - 71s 37ms/step - loss: 0.0539 - accuracy: 0.9870 - val_loss: 1.1670 - val_accuracy: 0.8836\n",
      "Epoch 29/50\n",
      "1914/1914 [==============================] - 71s 37ms/step - loss: 0.0479 - accuracy: 0.9877 - val_loss: 1.3498 - val_accuracy: 0.8623\n",
      "Epoch 30/50\n",
      "1914/1914 [==============================] - 72s 38ms/step - loss: 0.0504 - accuracy: 0.9884 - val_loss: 1.5667 - val_accuracy: 0.8457\n",
      "Epoch 31/50\n",
      "1914/1914 [==============================] - 71s 37ms/step - loss: 0.0457 - accuracy: 0.9882 - val_loss: 1.2146 - val_accuracy: 0.8849\n",
      "Epoch 32/50\n",
      "1914/1914 [==============================] - 71s 37ms/step - loss: 0.0463 - accuracy: 0.9889 - val_loss: 1.5273 - val_accuracy: 0.8714\n",
      "Epoch 33/50\n",
      "1914/1914 [==============================] - 71s 37ms/step - loss: 0.0479 - accuracy: 0.9896 - val_loss: 1.4396 - val_accuracy: 0.8742\n",
      "Epoch 34/50\n",
      "1914/1914 [==============================] - 71s 37ms/step - loss: 0.0413 - accuracy: 0.9904 - val_loss: 1.7289 - val_accuracy: 0.8576\n",
      "Epoch 35/50\n",
      "1914/1914 [==============================] - 72s 37ms/step - loss: 0.0546 - accuracy: 0.9882 - val_loss: 1.4413 - val_accuracy: 0.8831\n",
      "Epoch 36/50\n",
      "1914/1914 [==============================] - 71s 37ms/step - loss: 0.0416 - accuracy: 0.9905 - val_loss: 1.6060 - val_accuracy: 0.8731\n",
      "Epoch 37/50\n",
      "1914/1914 [==============================] - 71s 37ms/step - loss: 0.0498 - accuracy: 0.9889 - val_loss: 1.7296 - val_accuracy: 0.8658\n",
      "Epoch 38/50\n",
      "1914/1914 [==============================] - 73s 38ms/step - loss: 0.0460 - accuracy: 0.9903 - val_loss: 1.8507 - val_accuracy: 0.8644\n",
      "Epoch 39/50\n",
      "1914/1914 [==============================] - 74s 38ms/step - loss: 0.0483 - accuracy: 0.9894 - val_loss: 1.6806 - val_accuracy: 0.8747\n",
      "Epoch 40/50\n",
      "1914/1914 [==============================] - 71s 37ms/step - loss: 0.0436 - accuracy: 0.9899 - val_loss: 1.4959 - val_accuracy: 0.8771\n",
      "Epoch 41/50\n",
      "1914/1914 [==============================] - 71s 37ms/step - loss: 0.0461 - accuracy: 0.9908 - val_loss: 1.5822 - val_accuracy: 0.8801\n",
      "Epoch 42/50\n",
      "1914/1914 [==============================] - 71s 37ms/step - loss: 0.0449 - accuracy: 0.9907 - val_loss: 2.1020 - val_accuracy: 0.8579\n",
      "Epoch 43/50\n",
      "1914/1914 [==============================] - 71s 37ms/step - loss: 0.0522 - accuracy: 0.9898 - val_loss: 1.8283 - val_accuracy: 0.8710\n",
      "Epoch 44/50\n",
      "1914/1914 [==============================] - 71s 37ms/step - loss: 0.0422 - accuracy: 0.9913 - val_loss: 2.2482 - val_accuracy: 0.8521\n",
      "Epoch 45/50\n",
      "1914/1914 [==============================] - 71s 37ms/step - loss: 0.0489 - accuracy: 0.9900 - val_loss: 1.7996 - val_accuracy: 0.8818\n",
      "Epoch 46/50\n",
      "1914/1914 [==============================] - 71s 37ms/step - loss: 0.0451 - accuracy: 0.9915 - val_loss: 2.0707 - val_accuracy: 0.8673\n",
      "Epoch 47/50\n",
      "1914/1914 [==============================] - 71s 37ms/step - loss: 0.0467 - accuracy: 0.9911 - val_loss: 1.9663 - val_accuracy: 0.8666\n",
      "Epoch 48/50\n",
      "1914/1914 [==============================] - 71s 37ms/step - loss: 0.0448 - accuracy: 0.9917 - val_loss: 1.7698 - val_accuracy: 0.8847\n",
      "Epoch 49/50\n",
      "1914/1914 [==============================] - 71s 37ms/step - loss: 0.0442 - accuracy: 0.9912 - val_loss: 2.3652 - val_accuracy: 0.8486\n",
      "Epoch 50/50\n",
      "1914/1914 [==============================] - 71s 37ms/step - loss: 0.0385 - accuracy: 0.9929 - val_loss: 1.9866 - val_accuracy: 0.8805\n"
     ]
    },
    {
     "data": {
      "text/plain": "<keras.callbacks.History at 0x17ce657e280>"
     },
     "execution_count": 5,
     "metadata": {},
     "output_type": "execute_result"
    }
   ],
   "source": [
    "model.fit(\n",
    "    initial_train_ds,\n",
    "    validation_data=initial_val_ds,\n",
    "    epochs=50\n",
    ")"
   ]
  },
  {
   "cell_type": "markdown",
   "source": [
    "Save model"
   ],
   "metadata": {
    "collapsed": false
   }
  },
  {
   "cell_type": "code",
   "execution_count": 6,
   "outputs": [
    {
     "name": "stdout",
     "output_type": "stream",
     "text": [
      "Saving model base and it's 432 classes\n",
      "INFO:tensorflow:Assets written to: ./models/base\\assets\n"
     ]
    }
   ],
   "source": [
    "HelperUtils.save_model(Configuration.base_model_name, model,class_names)"
   ],
   "metadata": {
    "collapsed": false,
    "pycharm": {
     "name": "#%%\n"
    }
   }
  },
  {
   "cell_type": "markdown",
   "source": [
    "Test trained model"
   ],
   "metadata": {
    "collapsed": false
   }
  },
  {
   "cell_type": "code",
   "execution_count": 9,
   "metadata": {
    "collapsed": false,
    "jupyter": {
     "outputs_hidden": false
    },
    "pycharm": {
     "name": "#%%\n"
    }
   },
   "outputs": [],
   "source": [
    "%%capture\n",
    "from utils.testing_util import TestingUtil\n",
    "results = TestingUtil.test_with_test_set(model, class_names)"
   ]
  },
  {
   "cell_type": "markdown",
   "source": [
    "Print test results"
   ],
   "metadata": {
    "collapsed": false
   }
  },
  {
   "cell_type": "code",
   "execution_count": 10,
   "outputs": [
    {
     "name": "stdout",
     "output_type": "stream",
     "text": [
      "                                           image  class prediction Correct\n",
      "0     c0_0_Con31_YGzI_original_1618300443534.jpg  10197      54383      No\n",
      "1                      97E1_G5_1621423488237.jpg  10928      10928     Yes\n",
      "2                      OX9N_G5_1621423533748.jpg  10928      10928     Yes\n",
      "3       c2_3_P11_SkEJ_original_1619000719222.jpg  11153      11153     Yes\n",
      "4                 P11_SINK_P11_1619000717769.jpg  11153      92950      No\n",
      "..                                           ...    ...        ...     ...\n",
      "306                 B5_Ef0H_B5_1619085989929.jpg  98100       3039      No\n",
      "307  c10_13_Pin3_Faj3_original_1618574063580.jpg  98138      98138     Yes\n",
      "308   c2_3_Axle2_7eYo_original_1618224172194.jpg  99008      99008     Yes\n",
      "309     c0_2_i2L3_original-T30_1621412159729.jpg  99773      99773     Yes\n",
      "310     c2_3_P51_IWno_original_1618573014049.jpg  99780      99780     Yes\n",
      "\n",
      "[311 rows x 4 columns]\n",
      "Test results: 277 / 311 (89.07%)\n"
     ]
    }
   ],
   "source": [
    "TestingUtil.pretty_print_results(results)"
   ],
   "metadata": {
    "collapsed": false,
    "pycharm": {
     "name": "#%%\n"
    }
   }
  }
 ],
 "metadata": {
  "kernelspec": {
   "display_name": "Python 3 (ipykernel)",
   "language": "python",
   "name": "python3"
  },
  "language_info": {
   "codemirror_mode": {
    "name": "ipython",
    "version": 3
   },
   "file_extension": ".py",
   "mimetype": "text/x-python",
   "name": "python",
   "nbconvert_exporter": "python",
   "pygments_lexer": "ipython3",
   "version": "3.8.10"
  }
 },
 "nbformat": 4,
 "nbformat_minor": 4
}