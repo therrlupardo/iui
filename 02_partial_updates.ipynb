{
 "cells": [
  {
   "cell_type": "markdown",
   "source": [
    "# Train model with part of old data"
   ],
   "metadata": {
    "collapsed": false
   }
  },
  {
   "cell_type": "code",
   "execution_count": 1,
   "metadata": {
    "collapsed": true
   },
   "outputs": [],
   "source": [
    "import tensorflow as tf\n",
    "import os\n",
    "from utils.helper_utils import HelperUtils\n",
    "from configuration import Configuration\n",
    "from utils.testing_util import TestingUtil\n",
    "from pathlib import Path\n",
    "import time\n",
    "from pandas.core.frame import DataFrame"
   ]
  },
  {
   "cell_type": "code",
   "execution_count": 2,
   "outputs": [],
   "source": [
    "def train_model(model_name, data_dir):\n",
    "    print(f'Training model {model_name} using data from {data_dir}')\n",
    "    train_ds = tf.keras.utils.image_dataset_from_directory(\n",
    "        data_dir,\n",
    "        validation_split=Configuration.validation_split,\n",
    "        subset=\"training\",\n",
    "        seed=123,\n",
    "        image_size=(Configuration.img_height, Configuration.img_width),\n",
    "        batch_size=Configuration.batch_size)\n",
    "\n",
    "    val_ds = tf.keras.utils.image_dataset_from_directory(\n",
    "        data_dir,\n",
    "        validation_split=Configuration.validation_split,\n",
    "        subset=\"validation\",\n",
    "        seed=123,\n",
    "        image_size=(Configuration.img_height, Configuration.img_width),\n",
    "        batch_size=Configuration.batch_size)\n",
    "\n",
    "    model, class_names = HelperUtils.load_model(Configuration.base_model_name)\n",
    "    opt = tf.keras.optimizers.Adam(learning_rate=0.001)\n",
    "\n",
    "    model.compile(optimizer=opt,\n",
    "                  loss=tf.keras.losses.SparseCategoricalCrossentropy(from_logits=True),\n",
    "                  metrics=['accuracy'])\n",
    "\n",
    "    model.fit(train_ds, validation_data=val_ds, epochs=Configuration.epochs)\n",
    "    HelperUtils.save_model(model_name, model, class_names)\n",
    "    return model, class_names"
   ],
   "metadata": {
    "collapsed": false,
    "pycharm": {
     "name": "#%%\n"
    }
   }
  },
  {
   "cell_type": "markdown",
   "source": [
    "Train models"
   ],
   "metadata": {
    "collapsed": false
   }
  },
  {
   "cell_type": "code",
   "execution_count": 3,
   "outputs": [
    {
     "name": "stdout",
     "output_type": "stream",
     "text": [
      "Training model 00percent using data from D:\\Studia\\magisterka\\sem2\\IUI\\data\\subsets\\00percent\n",
      "Found 774 files belonging to 329 classes.\n",
      "Using 620 files for training.\n",
      "Found 774 files belonging to 329 classes.\n",
      "Using 154 files for validation.\n",
      "Epoch 1/10\n",
      "20/20 [==============================] - 6s 44ms/step - loss: 65.1312 - accuracy: 0.0032 - val_loss: 21.0882 - val_accuracy: 0.0065\n",
      "Epoch 2/10\n",
      "20/20 [==============================] - 0s 20ms/step - loss: 12.9465 - accuracy: 0.0016 - val_loss: 8.9510 - val_accuracy: 0.0195\n",
      "Epoch 3/10\n",
      "20/20 [==============================] - 0s 20ms/step - loss: 7.3889 - accuracy: 0.0016 - val_loss: 7.2404 - val_accuracy: 0.0065\n",
      "Epoch 4/10\n",
      "20/20 [==============================] - 0s 20ms/step - loss: 6.3194 - accuracy: 0.0032 - val_loss: 6.7807 - val_accuracy: 0.0065\n",
      "Epoch 5/10\n",
      "20/20 [==============================] - 0s 20ms/step - loss: 5.8379 - accuracy: 0.0145 - val_loss: 6.6648 - val_accuracy: 0.0065\n",
      "Epoch 6/10\n",
      "20/20 [==============================] - 0s 20ms/step - loss: 5.4217 - accuracy: 0.0387 - val_loss: 6.7497 - val_accuracy: 0.0000e+00\n",
      "Epoch 7/10\n",
      "20/20 [==============================] - 0s 20ms/step - loss: 4.9860 - accuracy: 0.0839 - val_loss: 6.9888 - val_accuracy: 0.0000e+00\n",
      "Epoch 8/10\n",
      "20/20 [==============================] - 1s 21ms/step - loss: 4.5749 - accuracy: 0.1419 - val_loss: 7.2654 - val_accuracy: 0.0000e+00\n",
      "Epoch 9/10\n",
      "20/20 [==============================] - 0s 20ms/step - loss: 4.1536 - accuracy: 0.2016 - val_loss: 7.5339 - val_accuracy: 0.0000e+00\n",
      "Epoch 10/10\n",
      "20/20 [==============================] - 0s 20ms/step - loss: 3.6687 - accuracy: 0.3177 - val_loss: 7.9683 - val_accuracy: 0.0000e+00\n",
      "Saving model 00percent and it's 432 classes\n",
      "INFO:tensorflow:Assets written to: ./models/00percent\\assets\n",
      "Training model 05percent using data from D:\\Studia\\magisterka\\sem2\\IUI\\data\\subsets\\05percent\n",
      "Found 4601 files belonging to 425 classes.\n",
      "Using 3681 files for training.\n",
      "Found 4601 files belonging to 425 classes.\n",
      "Using 920 files for validation.\n",
      "Epoch 1/10\n",
      "116/116 [==============================] - 4s 34ms/step - loss: 16.5238 - accuracy: 0.0242 - val_loss: 6.0670 - val_accuracy: 0.0065\n",
      "Epoch 2/10\n",
      "116/116 [==============================] - 2s 19ms/step - loss: 5.7815 - accuracy: 0.0117 - val_loss: 5.8423 - val_accuracy: 0.0109\n",
      "Epoch 3/10\n",
      "116/116 [==============================] - 2s 19ms/step - loss: 5.4396 - accuracy: 0.0361 - val_loss: 5.6793 - val_accuracy: 0.0261\n",
      "Epoch 4/10\n",
      "116/116 [==============================] - 2s 19ms/step - loss: 4.9223 - accuracy: 0.0945 - val_loss: 5.6794 - val_accuracy: 0.0402\n",
      "Epoch 5/10\n",
      "116/116 [==============================] - 2s 19ms/step - loss: 4.2492 - accuracy: 0.2037 - val_loss: 5.8328 - val_accuracy: 0.0587\n",
      "Epoch 6/10\n",
      "116/116 [==============================] - 2s 19ms/step - loss: 3.3967 - accuracy: 0.3570 - val_loss: 6.2485 - val_accuracy: 0.0717\n",
      "Epoch 7/10\n",
      "116/116 [==============================] - 2s 19ms/step - loss: 2.5182 - accuracy: 0.5153 - val_loss: 6.7013 - val_accuracy: 0.1054\n",
      "Epoch 8/10\n",
      "116/116 [==============================] - 2s 19ms/step - loss: 1.7007 - accuracy: 0.6659 - val_loss: 7.6145 - val_accuracy: 0.1228\n",
      "Epoch 9/10\n",
      "116/116 [==============================] - 2s 19ms/step - loss: 1.0823 - accuracy: 0.7824 - val_loss: 8.3735 - val_accuracy: 0.1391\n",
      "Epoch 10/10\n",
      "116/116 [==============================] - 2s 19ms/step - loss: 0.6420 - accuracy: 0.8685 - val_loss: 9.3176 - val_accuracy: 0.1522\n",
      "Saving model 05percent and it's 432 classes\n",
      "INFO:tensorflow:Assets written to: ./models/05percent\\assets\n",
      "Training model 100percent using data from D:\\Studia\\magisterka\\sem2\\IUI\\data\\subsets\\100percent\n",
      "Found 76536 files belonging to 432 classes.\n",
      "Using 61229 files for training.\n",
      "Found 76536 files belonging to 432 classes.\n",
      "Using 15307 files for validation.\n",
      "Epoch 1/10\n",
      "1914/1914 [==============================] - 62s 32ms/step - loss: 0.0441 - accuracy: 0.9919 - val_loss: 2.1947 - val_accuracy: 0.8740\n",
      "Epoch 2/10\n",
      "1914/1914 [==============================] - 36s 19ms/step - loss: 0.0508 - accuracy: 0.9914 - val_loss: 2.2042 - val_accuracy: 0.8757\n",
      "Epoch 3/10\n",
      "1914/1914 [==============================] - 36s 19ms/step - loss: 0.0435 - accuracy: 0.9928 - val_loss: 2.4248 - val_accuracy: 0.8657\n",
      "Epoch 4/10\n",
      "1914/1914 [==============================] - 36s 19ms/step - loss: 0.0419 - accuracy: 0.9923 - val_loss: 2.2102 - val_accuracy: 0.8714\n",
      "Epoch 5/10\n",
      "1914/1914 [==============================] - 36s 19ms/step - loss: 0.0432 - accuracy: 0.9920 - val_loss: 2.2733 - val_accuracy: 0.8661\n",
      "Epoch 6/10\n",
      "1914/1914 [==============================] - 36s 19ms/step - loss: 0.0426 - accuracy: 0.9930 - val_loss: 2.1319 - val_accuracy: 0.8728\n",
      "Epoch 7/10\n",
      "1914/1914 [==============================] - 36s 19ms/step - loss: 0.0415 - accuracy: 0.9927 - val_loss: 2.0623 - val_accuracy: 0.8871\n",
      "Epoch 8/10\n",
      "1914/1914 [==============================] - 36s 19ms/step - loss: 0.0473 - accuracy: 0.9920 - val_loss: 2.5781 - val_accuracy: 0.8626\n",
      "Epoch 9/10\n",
      "1914/1914 [==============================] - 36s 19ms/step - loss: 0.0516 - accuracy: 0.9922 - val_loss: 2.6278 - val_accuracy: 0.8649\n",
      "Epoch 10/10\n",
      "1914/1914 [==============================] - 36s 19ms/step - loss: 0.0481 - accuracy: 0.9925 - val_loss: 2.3536 - val_accuracy: 0.8697\n",
      "Saving model 100percent and it's 432 classes\n",
      "INFO:tensorflow:Assets written to: ./models/100percent\\assets\n",
      "Training model 10percent using data from D:\\Studia\\magisterka\\sem2\\IUI\\data\\subsets\\10percent\n",
      "Found 8428 files belonging to 432 classes.\n",
      "Using 6743 files for training.\n",
      "Found 8428 files belonging to 432 classes.\n",
      "Using 1685 files for validation.\n",
      "Epoch 1/10\n",
      "211/211 [==============================] - 8s 34ms/step - loss: 0.4986 - accuracy: 0.9568 - val_loss: 0.3390 - val_accuracy: 0.9626\n",
      "Epoch 2/10\n",
      "211/211 [==============================] - 4s 19ms/step - loss: 0.0623 - accuracy: 0.9880 - val_loss: 0.3381 - val_accuracy: 0.9638\n",
      "Epoch 3/10\n",
      "211/211 [==============================] - 4s 19ms/step - loss: 0.0089 - accuracy: 0.9984 - val_loss: 0.2734 - val_accuracy: 0.9703\n",
      "Epoch 4/10\n",
      "211/211 [==============================] - 4s 18ms/step - loss: 0.0013 - accuracy: 0.9999 - val_loss: 0.2593 - val_accuracy: 0.9697\n",
      "Epoch 5/10\n",
      "211/211 [==============================] - 4s 19ms/step - loss: 4.9949e-05 - accuracy: 1.0000 - val_loss: 0.2575 - val_accuracy: 0.9709\n",
      "Epoch 6/10\n",
      "211/211 [==============================] - 4s 18ms/step - loss: 2.1645e-05 - accuracy: 1.0000 - val_loss: 0.2582 - val_accuracy: 0.9721\n",
      "Epoch 7/10\n",
      "211/211 [==============================] - 4s 19ms/step - loss: 1.5729e-05 - accuracy: 1.0000 - val_loss: 0.2586 - val_accuracy: 0.9727\n",
      "Epoch 8/10\n",
      "211/211 [==============================] - 4s 19ms/step - loss: 1.2549e-05 - accuracy: 1.0000 - val_loss: 0.2591 - val_accuracy: 0.9727\n",
      "Epoch 9/10\n",
      "211/211 [==============================] - 4s 19ms/step - loss: 1.0357e-05 - accuracy: 1.0000 - val_loss: 0.2597 - val_accuracy: 0.9727\n",
      "Epoch 10/10\n",
      "211/211 [==============================] - 4s 19ms/step - loss: 8.7032e-06 - accuracy: 1.0000 - val_loss: 0.2604 - val_accuracy: 0.9727\n",
      "Saving model 10percent and it's 432 classes\n",
      "INFO:tensorflow:Assets written to: ./models/10percent\\assets\n",
      "Training model 20percent using data from D:\\Studia\\magisterka\\sem2\\IUI\\data\\subsets\\20percent\n",
      "Found 16082 files belonging to 432 classes.\n",
      "Using 12866 files for training.\n",
      "Found 16082 files belonging to 432 classes.\n",
      "Using 3216 files for validation.\n",
      "Epoch 1/10\n",
      "403/403 [==============================] - 14s 32ms/step - loss: 0.3851 - accuracy: 0.9609 - val_loss: 0.3368 - val_accuracy: 0.9580\n",
      "Epoch 2/10\n",
      "403/403 [==============================] - 8s 19ms/step - loss: 0.0481 - accuracy: 0.9917 - val_loss: 0.3014 - val_accuracy: 0.9689\n",
      "Epoch 3/10\n",
      "403/403 [==============================] - 8s 19ms/step - loss: 0.0047 - accuracy: 0.9984 - val_loss: 0.2866 - val_accuracy: 0.9723\n",
      "Epoch 4/10\n",
      "403/403 [==============================] - 8s 19ms/step - loss: 0.0026 - accuracy: 0.9991 - val_loss: 0.3115 - val_accuracy: 0.9720\n",
      "Epoch 5/10\n",
      "403/403 [==============================] - 8s 19ms/step - loss: 0.0042 - accuracy: 0.9988 - val_loss: 0.3428 - val_accuracy: 0.9689\n",
      "Epoch 6/10\n",
      "403/403 [==============================] - 8s 19ms/step - loss: 0.0863 - accuracy: 0.9830 - val_loss: 0.4455 - val_accuracy: 0.9593\n",
      "Epoch 7/10\n",
      "403/403 [==============================] - 8s 20ms/step - loss: 0.0344 - accuracy: 0.9934 - val_loss: 0.4755 - val_accuracy: 0.9605\n",
      "Epoch 8/10\n",
      "403/403 [==============================] - 8s 20ms/step - loss: 0.0181 - accuracy: 0.9959 - val_loss: 0.4021 - val_accuracy: 0.9701\n",
      "Epoch 9/10\n",
      "403/403 [==============================] - 8s 19ms/step - loss: 0.0334 - accuracy: 0.9932 - val_loss: 0.4982 - val_accuracy: 0.9608\n",
      "Epoch 10/10\n",
      "403/403 [==============================] - 8s 19ms/step - loss: 0.0455 - accuracy: 0.9923 - val_loss: 0.5569 - val_accuracy: 0.9583\n",
      "Saving model 20percent and it's 432 classes\n",
      "INFO:tensorflow:Assets written to: ./models/20percent\\assets\n",
      "Training model 25percent using data from D:\\Studia\\magisterka\\sem2\\IUI\\data\\subsets\\25percent\n",
      "Found 19908 files belonging to 432 classes.\n",
      "Using 15927 files for training.\n",
      "Found 19908 files belonging to 432 classes.\n",
      "Using 3981 files for validation.\n",
      "Epoch 1/10\n",
      "498/498 [==============================] - 17s 32ms/step - loss: 0.3348 - accuracy: 0.9660 - val_loss: 0.2782 - val_accuracy: 0.9648\n",
      "Epoch 2/10\n",
      "498/498 [==============================] - 9s 19ms/step - loss: 0.0379 - accuracy: 0.9918 - val_loss: 0.2939 - val_accuracy: 0.9696\n",
      "Epoch 3/10\n",
      "498/498 [==============================] - 9s 18ms/step - loss: 0.0074 - accuracy: 0.9984 - val_loss: 0.3577 - val_accuracy: 0.9651\n",
      "Epoch 4/10\n",
      "498/498 [==============================] - 9s 18ms/step - loss: 0.0060 - accuracy: 0.9986 - val_loss: 0.3625 - val_accuracy: 0.9696\n",
      "Epoch 5/10\n",
      "498/498 [==============================] - 9s 19ms/step - loss: 0.0188 - accuracy: 0.9955 - val_loss: 0.4407 - val_accuracy: 0.9508\n",
      "Epoch 6/10\n",
      "498/498 [==============================] - 9s 18ms/step - loss: 0.0490 - accuracy: 0.9889 - val_loss: 0.5285 - val_accuracy: 0.9513\n",
      "Epoch 7/10\n",
      "498/498 [==============================] - 10s 19ms/step - loss: 0.0493 - accuracy: 0.9898 - val_loss: 0.5240 - val_accuracy: 0.9633\n",
      "Epoch 8/10\n",
      "498/498 [==============================] - 10s 20ms/step - loss: 0.0279 - accuracy: 0.9945 - val_loss: 0.4713 - val_accuracy: 0.9658\n",
      "Epoch 9/10\n",
      "498/498 [==============================] - 10s 19ms/step - loss: 0.0217 - accuracy: 0.9949 - val_loss: 0.6760 - val_accuracy: 0.9515\n",
      "Epoch 10/10\n",
      "498/498 [==============================] - 10s 19ms/step - loss: 0.0455 - accuracy: 0.9915 - val_loss: 0.5539 - val_accuracy: 0.9611\n",
      "Saving model 25percent and it's 432 classes\n",
      "INFO:tensorflow:Assets written to: ./models/25percent\\assets\n",
      "Training model 33percent using data from D:\\Studia\\magisterka\\sem2\\IUI\\data\\subsets\\33percent\n",
      "Found 26286 files belonging to 432 classes.\n",
      "Using 21029 files for training.\n",
      "Found 26286 files belonging to 432 classes.\n",
      "Using 5257 files for validation.\n",
      "Epoch 1/10\n",
      "658/658 [==============================] - 22s 33ms/step - loss: 0.3153 - accuracy: 0.9660 - val_loss: 0.2136 - val_accuracy: 0.9690\n",
      "Epoch 2/10\n",
      "658/658 [==============================] - 13s 19ms/step - loss: 0.0372 - accuracy: 0.9913 - val_loss: 0.2178 - val_accuracy: 0.9737\n",
      "Epoch 3/10\n",
      "658/658 [==============================] - 12s 18ms/step - loss: 0.0136 - accuracy: 0.9965 - val_loss: 0.2476 - val_accuracy: 0.9724\n",
      "Epoch 4/10\n",
      "658/658 [==============================] - 12s 19ms/step - loss: 0.0221 - accuracy: 0.9947 - val_loss: 0.3686 - val_accuracy: 0.9620\n",
      "Epoch 5/10\n",
      "658/658 [==============================] - 12s 19ms/step - loss: 0.0769 - accuracy: 0.9860 - val_loss: 0.4845 - val_accuracy: 0.9519\n",
      "Epoch 6/10\n",
      "658/658 [==============================] - 12s 19ms/step - loss: 0.0419 - accuracy: 0.9916 - val_loss: 0.3536 - val_accuracy: 0.9667\n",
      "Epoch 7/10\n",
      "658/658 [==============================] - 12s 18ms/step - loss: 0.0192 - accuracy: 0.9956 - val_loss: 0.3816 - val_accuracy: 0.9686\n",
      "Epoch 8/10\n",
      "658/658 [==============================] - 12s 19ms/step - loss: 0.0221 - accuracy: 0.9956 - val_loss: 0.3468 - val_accuracy: 0.9694\n",
      "Epoch 9/10\n",
      "658/658 [==============================] - 12s 19ms/step - loss: 0.0327 - accuracy: 0.9932 - val_loss: 0.4283 - val_accuracy: 0.9627\n",
      "Epoch 10/10\n",
      "658/658 [==============================] - 12s 19ms/step - loss: 0.0446 - accuracy: 0.9918 - val_loss: 0.4386 - val_accuracy: 0.9675\n",
      "Saving model 33percent and it's 432 classes\n",
      "INFO:tensorflow:Assets written to: ./models/33percent\\assets\n",
      "Training model 50percent using data from D:\\Studia\\magisterka\\sem2\\IUI\\data\\subsets\\50percent\n",
      "Found 39042 files belonging to 432 classes.\n",
      "Using 31234 files for training.\n",
      "Found 39042 files belonging to 432 classes.\n",
      "Using 7808 files for validation.\n",
      "Epoch 1/10\n",
      "977/977 [==============================] - 32s 32ms/step - loss: 0.2965 - accuracy: 0.9654 - val_loss: 0.1938 - val_accuracy: 0.9672\n",
      "Epoch 2/10\n",
      "977/977 [==============================] - 18s 19ms/step - loss: 0.0384 - accuracy: 0.9911 - val_loss: 0.2249 - val_accuracy: 0.9691\n",
      "Epoch 3/10\n",
      "977/977 [==============================] - 18s 19ms/step - loss: 0.0269 - accuracy: 0.9939 - val_loss: 0.2988 - val_accuracy: 0.9640\n",
      "Epoch 4/10\n",
      "977/977 [==============================] - 18s 18ms/step - loss: 0.0441 - accuracy: 0.9902 - val_loss: 0.2701 - val_accuracy: 0.9700\n",
      "Epoch 5/10\n",
      "977/977 [==============================] - 18s 19ms/step - loss: 0.0569 - accuracy: 0.9882 - val_loss: 0.2813 - val_accuracy: 0.9696\n",
      "Epoch 6/10\n",
      "977/977 [==============================] - 18s 18ms/step - loss: 0.0329 - accuracy: 0.9930 - val_loss: 0.3311 - val_accuracy: 0.9693\n",
      "Epoch 7/10\n",
      "977/977 [==============================] - 18s 19ms/step - loss: 0.0425 - accuracy: 0.9923 - val_loss: 0.3840 - val_accuracy: 0.9623\n",
      "Epoch 8/10\n",
      "977/977 [==============================] - 18s 18ms/step - loss: 0.0288 - accuracy: 0.9941 - val_loss: 0.3873 - val_accuracy: 0.9663\n",
      "Epoch 9/10\n",
      "977/977 [==============================] - 18s 19ms/step - loss: 0.0431 - accuracy: 0.9916 - val_loss: 0.3769 - val_accuracy: 0.9663\n",
      "Epoch 10/10\n",
      "977/977 [==============================] - 18s 19ms/step - loss: 0.0263 - accuracy: 0.9945 - val_loss: 0.4086 - val_accuracy: 0.9597\n",
      "Saving model 50percent and it's 432 classes\n",
      "INFO:tensorflow:Assets written to: ./models/50percent\\assets\n"
     ]
    }
   ],
   "source": [
    "trained_models = []\n",
    "for data_directory in Path(Configuration.update_data_location).glob('*'):\n",
    "    model_name = str(data_directory).split(os.sep)[-1]\n",
    "    start_time = time.time()\n",
    "    model, class_names = train_model(model_name, data_directory)\n",
    "    train_time = time.time() - start_time\n",
    "    trained_models.append((model_name, model, data_directory, train_time, class_names))"
   ],
   "metadata": {
    "collapsed": false,
    "pycharm": {
     "name": "#%%\n"
    }
   }
  },
  {
   "cell_type": "markdown",
   "source": [
    "Test trained models"
   ],
   "metadata": {
    "collapsed": false
   }
  },
  {
   "cell_type": "code",
   "execution_count": 4,
   "outputs": [],
   "source": [
    "%%capture\n",
    "results = []\n",
    "for model in trained_models:\n",
    "    test_results = TestingUtil.test_with_test_set(model[1], model[4])\n",
    "    correct = len(list(filter(lambda x: x[-1] == 'Yes', test_results)))\n",
    "    total = len(test_results)\n",
    "    results.append((model[0], model[2], f'{correct}/{total}', '{:.2f}%'.format(correct / total * 100), model[3]))"
   ],
   "metadata": {
    "collapsed": false,
    "pycharm": {
     "name": "#%%\n"
    }
   }
  },
  {
   "cell_type": "markdown",
   "source": [
    "Display test results"
   ],
   "metadata": {
    "collapsed": false
   }
  },
  {
   "cell_type": "code",
   "execution_count": 9,
   "outputs": [
    {
     "name": "stdout",
     "output_type": "stream",
     "text": [
      "   Model name Test results Percentage test results  Training time\n",
      "0   00percent        4/311                   1.29%      13.492703\n",
      "1   05percent       14/311                   4.50%      27.527681\n",
      "2  100percent      279/311                  89.71%     389.667623\n",
      "3   10percent      283/311                  91.00%      46.699300\n",
      "4   20percent      275/311                  88.42%      87.470977\n",
      "5   25percent      274/311                  88.10%     105.738362\n",
      "6   33percent      286/311                  91.96%     137.483157\n",
      "7   50percent      273/311                  87.78%     200.742078\n"
     ]
    }
   ],
   "source": [
    "results.sort(key = lambda x: x[0])\n",
    "print(DataFrame([(x[0], x[2], x[3], x[4]) for x in results], columns=['Model name', 'Test results', 'Percentage test results', 'Training time']))"
   ],
   "metadata": {
    "collapsed": false,
    "pycharm": {
     "name": "#%%\n"
    }
   }
  }
 ],
 "metadata": {
  "kernelspec": {
   "display_name": "Python 3",
   "language": "python",
   "name": "python3"
  },
  "language_info": {
   "codemirror_mode": {
    "name": "ipython",
    "version": 2
   },
   "file_extension": ".py",
   "mimetype": "text/x-python",
   "name": "python",
   "nbconvert_exporter": "python",
   "pygments_lexer": "ipython2",
   "version": "2.7.6"
  }
 },
 "nbformat": 4,
 "nbformat_minor": 0
}