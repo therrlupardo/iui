{
 "cells": [
  {
   "cell_type": "code",
   "execution_count": 13,
   "metadata": {
    "collapsed": true
   },
   "outputs": [],
   "source": [
    "import tensorflow as tf\n",
    "\n",
    "from utils import HelperUtils, Configuration"
   ]
  },
  {
   "cell_type": "code",
   "execution_count": 15,
   "outputs": [
    {
     "name": "stdout",
     "output_type": "stream",
     "text": [
      "Downloading data from file:///C:\\Users\\thehe\\dev\\studies\\iui\\iui\\data\\simple.zip\n",
      "1748328448/1748324698 [==============================] - 2s 0us/step\n",
      "1748336640/1748324698 [==============================] - 2s 0us/step\n"
     ]
    }
   ],
   "source": [
    "data_dir = HelperUtils.load_data('./data/big.zip', 'update_only_new_data')\n",
    "HelperUtils.convert_dataset(data_dir)"
   ],
   "metadata": {
    "collapsed": false,
    "pycharm": {
     "name": "#%%\n"
    }
   }
  },
  {
   "cell_type": "code",
   "execution_count": 16,
   "outputs": [
    {
     "name": "stdout",
     "output_type": "stream",
     "text": [
      "Found 77638 files belonging to 468 classes.\n",
      "Using 62111 files for training.\n",
      "Found 77638 files belonging to 468 classes.\n",
      "Using 15527 files for validation.\n"
     ]
    }
   ],
   "source": [
    "train_ds = tf.keras.utils.image_dataset_from_directory(\n",
    "    data_dir,\n",
    "    validation_split=Configuration.validation_split,\n",
    "    subset=\"training\",\n",
    "    seed=123,\n",
    "    image_size=(Configuration.img_height, Configuration.img_width),\n",
    "    batch_size=Configuration.batch_size)\n",
    "\n",
    "val_ds = tf.keras.utils.image_dataset_from_directory(\n",
    "    data_dir,\n",
    "    validation_split=Configuration.validation_split,\n",
    "    subset=\"validation\",\n",
    "    seed=123,\n",
    "    image_size=(Configuration.img_height, Configuration.img_width),\n",
    "    batch_size=Configuration.batch_size)\n",
    "\n",
    "class_names = train_ds.class_names\n",
    "\n",
    "num_classes = len(class_names)\n",
    "\n",
    "# train_ds = train_ds.shuffle(500).batch(batch_size)\n",
    "# val_ds = val_ds.shuffle(500).batch(batch_size)"
   ],
   "metadata": {
    "collapsed": false,
    "pycharm": {
     "name": "#%%\n"
    }
   }
  },
  {
   "cell_type": "code",
   "execution_count": 21,
   "outputs": [
    {
     "name": "stdout",
     "output_type": "stream",
     "text": [
      "Model: \"sequential_1\"\n",
      "_________________________________________________________________\n",
      " Layer (type)                Output Shape              Param #   \n",
      "=================================================================\n",
      " rescaling_1 (Rescaling)     (None, 180, 180, 3)       0         \n",
      "                                                                 \n",
      " conv2d_3 (Conv2D)           (None, 180, 180, 16)      448       \n",
      "                                                                 \n",
      " max_pooling2d_3 (MaxPooling  (None, 90, 90, 16)       0         \n",
      " 2D)                                                             \n",
      "                                                                 \n",
      " conv2d_4 (Conv2D)           (None, 90, 90, 32)        4640      \n",
      "                                                                 \n",
      " max_pooling2d_4 (MaxPooling  (None, 45, 45, 32)       0         \n",
      " 2D)                                                             \n",
      "                                                                 \n",
      " conv2d_5 (Conv2D)           (None, 45, 45, 64)        18496     \n",
      "                                                                 \n",
      " max_pooling2d_5 (MaxPooling  (None, 22, 22, 64)       0         \n",
      " 2D)                                                             \n",
      "                                                                 \n",
      " flatten_1 (Flatten)         (None, 30976)             0         \n",
      "                                                                 \n",
      " dense_2 (Dense)             (None, 512)               15860224  \n",
      "                                                                 \n",
      " dense_3 (Dense)             (None, 448)               229824    \n",
      "                                                                 \n",
      "=================================================================\n",
      "Total params: 16,113,632\n",
      "Trainable params: 16,113,632\n",
      "Non-trainable params: 0\n",
      "_________________________________________________________________\n"
     ]
    }
   ],
   "source": [
    "model = tf.keras.models.load_model(f'{Configuration.models_location}/initial_model.h5')\n",
    "\n",
    "opt = tf.keras.optimizers.SGD(learning_rate=0.01, momentum=0.9)\n",
    "model.compile(\n",
    "    optimizer='adam',\n",
    "    loss=tf.keras.losses.SparseCategoricalCrossentropy(from_logits=True),\n",
    "    metrics=['accuracy']\n",
    ")\n",
    "model.summary()"
   ],
   "metadata": {
    "collapsed": false,
    "pycharm": {
     "name": "#%%\n"
    }
   }
  },
  {
   "cell_type": "code",
   "execution_count": 22,
   "outputs": [
    {
     "name": "stdout",
     "output_type": "stream",
     "text": [
      "Epoch 1/10\n",
      "1941/1941 [==============================] - 44s 23ms/step - loss: 5.4631 - accuracy: 0.0365 - val_loss: 4.9146 - val_accuracy: 0.0725\n",
      "Epoch 2/10\n",
      "1941/1941 [==============================] - 35s 18ms/step - loss: 4.3038 - accuracy: 0.1307 - val_loss: 3.8235 - val_accuracy: 0.1893\n",
      "Epoch 3/10\n",
      "1941/1941 [==============================] - 35s 18ms/step - loss: 3.3417 - accuracy: 0.2567 - val_loss: 3.1812 - val_accuracy: 0.2830\n",
      "Epoch 4/10\n",
      "1941/1941 [==============================] - 35s 18ms/step - loss: 2.6132 - accuracy: 0.3780 - val_loss: 2.7344 - val_accuracy: 0.3680\n",
      "Epoch 5/10\n",
      "1941/1941 [==============================] - 35s 18ms/step - loss: 2.0544 - accuracy: 0.4841 - val_loss: 2.3281 - val_accuracy: 0.4480\n",
      "Epoch 6/10\n",
      "1941/1941 [==============================] - 35s 18ms/step - loss: 1.6037 - accuracy: 0.5813 - val_loss: 2.1229 - val_accuracy: 0.4985\n",
      "Epoch 7/10\n",
      "1941/1941 [==============================] - 35s 18ms/step - loss: 1.2661 - accuracy: 0.6621 - val_loss: 1.9314 - val_accuracy: 0.5486\n",
      "Epoch 8/10\n",
      "1941/1941 [==============================] - 35s 18ms/step - loss: 0.9775 - accuracy: 0.7320 - val_loss: 1.9155 - val_accuracy: 0.5738\n",
      "Epoch 9/10\n",
      "1941/1941 [==============================] - 35s 18ms/step - loss: 0.7631 - accuracy: 0.7886 - val_loss: 1.8833 - val_accuracy: 0.5973\n",
      "Epoch 10/10\n",
      "1941/1941 [==============================] - 35s 18ms/step - loss: 0.6045 - accuracy: 0.8307 - val_loss: 1.8395 - val_accuracy: 0.6303\n"
     ]
    }
   ],
   "source": [
    "model.fit(train_ds, validation_data=val_ds, epochs=Configuration.epochs)\n",
    "model.save(f'{Configuration.models_location}/update_only_new_data_model.h5')"
   ],
   "metadata": {
    "collapsed": false,
    "pycharm": {
     "name": "#%%\n"
    }
   }
  },
  {
   "cell_type": "code",
   "execution_count": null,
   "outputs": [],
   "source": [
    "HelperUtils.test(model, class_names)"
   ],
   "metadata": {
    "collapsed": false,
    "pycharm": {
     "name": "#%%\n"
    }
   }
  }
 ],
 "metadata": {
  "kernelspec": {
   "display_name": "Python 3",
   "language": "python",
   "name": "python3"
  },
  "language_info": {
   "codemirror_mode": {
    "name": "ipython",
    "version": 2
   },
   "file_extension": ".py",
   "mimetype": "text/x-python",
   "name": "python",
   "nbconvert_exporter": "python",
   "pygments_lexer": "ipython2",
   "version": "2.7.6"
  }
 },
 "nbformat": 4,
 "nbformat_minor": 0
}