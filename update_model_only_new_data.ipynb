{
 "cells": [
  {
   "cell_type": "code",
   "execution_count": 1,
   "metadata": {
    "tags": []
   },
   "outputs": [
    {
     "name": "stderr",
     "output_type": "stream",
     "text": [
      "2022-01-07 16:04:50.187010: W tensorflow/stream_executor/platform/default/dso_loader.cc:64] Could not load dynamic library 'libcudart.so.11.0'; dlerror: libcudart.so.11.0: cannot open shared object file: No such file or directory\n",
      "2022-01-07 16:04:50.187040: I tensorflow/stream_executor/cuda/cudart_stub.cc:29] Ignore above cudart dlerror if you do not have a GPU set up on your machine.\n"
     ]
    }
   ],
   "source": [
    "import tensorflow as tf\n",
    "import os\n",
    "from utils.helper_utils import HelperUtils\n",
    "from configuration import Configuration\n",
    "from utils.testing_util import TestingUtil"
   ]
  },
  {
   "cell_type": "code",
   "execution_count": 2,
   "metadata": {
    "collapsed": false,
    "jupyter": {
     "outputs_hidden": false
    },
    "pycharm": {
     "name": "#%%\n"
    }
   },
   "outputs": [],
   "source": [
    "data_dir_name = \"small_update\"\n",
    "data_dir = os.path.abspath(os.path.join(Configuration.data_location, data_dir_name))"
   ]
  },
  {
   "cell_type": "code",
   "execution_count": 3,
   "metadata": {
    "collapsed": false,
    "jupyter": {
     "outputs_hidden": false
    },
    "pycharm": {
     "name": "#%%\n"
    }
   },
   "outputs": [
    {
     "name": "stdout",
     "output_type": "stream",
     "text": [
      "Found 639 files belonging to 7 classes.\n",
      "Using 512 files for training.\n",
      "Found 639 files belonging to 7 classes.\n",
      "Using 127 files for validation.\n"
     ]
    },
    {
     "name": "stderr",
     "output_type": "stream",
     "text": [
      "2022-01-07 16:04:52.837225: I tensorflow/stream_executor/cuda/cuda_gpu_executor.cc:939] successful NUMA node read from SysFS had negative value (-1), but there must be at least one NUMA node, so returning NUMA node zero\n",
      "2022-01-07 16:04:52.837928: I tensorflow/stream_executor/cuda/cuda_gpu_executor.cc:939] successful NUMA node read from SysFS had negative value (-1), but there must be at least one NUMA node, so returning NUMA node zero\n",
      "2022-01-07 16:04:52.838568: W tensorflow/stream_executor/platform/default/dso_loader.cc:64] Could not load dynamic library 'libcudart.so.11.0'; dlerror: libcudart.so.11.0: cannot open shared object file: No such file or directory\n",
      "2022-01-07 16:04:52.838656: W tensorflow/stream_executor/platform/default/dso_loader.cc:64] Could not load dynamic library 'libcublas.so.11'; dlerror: libcublas.so.11: cannot open shared object file: No such file or directory\n",
      "2022-01-07 16:04:52.838731: W tensorflow/stream_executor/platform/default/dso_loader.cc:64] Could not load dynamic library 'libcublasLt.so.11'; dlerror: libcublasLt.so.11: cannot open shared object file: No such file or directory\n",
      "2022-01-07 16:04:52.838805: W tensorflow/stream_executor/platform/default/dso_loader.cc:64] Could not load dynamic library 'libcufft.so.10'; dlerror: libcufft.so.10: cannot open shared object file: No such file or directory\n",
      "2022-01-07 16:04:52.838880: W tensorflow/stream_executor/platform/default/dso_loader.cc:64] Could not load dynamic library 'libcurand.so.10'; dlerror: libcurand.so.10: cannot open shared object file: No such file or directory\n",
      "2022-01-07 16:04:52.838983: W tensorflow/stream_executor/platform/default/dso_loader.cc:64] Could not load dynamic library 'libcusolver.so.11'; dlerror: libcusolver.so.11: cannot open shared object file: No such file or directory\n",
      "2022-01-07 16:04:52.839062: W tensorflow/stream_executor/platform/default/dso_loader.cc:64] Could not load dynamic library 'libcusparse.so.11'; dlerror: libcusparse.so.11: cannot open shared object file: No such file or directory\n",
      "2022-01-07 16:04:52.839136: W tensorflow/stream_executor/platform/default/dso_loader.cc:64] Could not load dynamic library 'libcudnn.so.8'; dlerror: libcudnn.so.8: cannot open shared object file: No such file or directory\n",
      "2022-01-07 16:04:52.839164: W tensorflow/core/common_runtime/gpu/gpu_device.cc:1850] Cannot dlopen some GPU libraries. Please make sure the missing libraries mentioned above are installed properly if you would like to use GPU. Follow the guide at https://www.tensorflow.org/install/gpu for how to download and setup the required libraries for your platform.\n",
      "Skipping registering GPU devices...\n",
      "2022-01-07 16:04:52.839793: I tensorflow/core/platform/cpu_feature_guard.cc:151] This TensorFlow binary is optimized with oneAPI Deep Neural Network Library (oneDNN) to use the following CPU instructions in performance-critical operations:  AVX2 FMA\n",
      "To enable them in other operations, rebuild TensorFlow with the appropriate compiler flags.\n"
     ]
    },
    {
     "name": "stdout",
     "output_type": "stream",
     "text": [
      "Model: \"sequential\"\n",
      "_________________________________________________________________\n",
      " Layer (type)                Output Shape              Param #   \n",
      "=================================================================\n",
      " rescaling (Rescaling)       (None, 180, 180, 3)       0         \n",
      "                                                                 \n",
      " conv2d (Conv2D)             (None, 180, 180, 16)      448       \n",
      "                                                                 \n",
      " max_pooling2d (MaxPooling2D  (None, 90, 90, 16)       0         \n",
      " )                                                               \n",
      "                                                                 \n",
      " conv2d_1 (Conv2D)           (None, 90, 90, 32)        4640      \n",
      "                                                                 \n",
      " max_pooling2d_1 (MaxPooling  (None, 45, 45, 32)       0         \n",
      " 2D)                                                             \n",
      "                                                                 \n",
      " conv2d_2 (Conv2D)           (None, 45, 45, 64)        18496     \n",
      "                                                                 \n",
      " max_pooling2d_2 (MaxPooling  (None, 22, 22, 64)       0         \n",
      " 2D)                                                             \n",
      "                                                                 \n",
      " flatten (Flatten)           (None, 30976)             0         \n",
      "                                                                 \n",
      " dense (Dense)               (None, 512)               15860224  \n",
      "                                                                 \n",
      " dense_1 (Dense)             (None, 433)               222129    \n",
      "                                                                 \n",
      "=================================================================\n",
      "Total params: 16,105,937\n",
      "Trainable params: 16,105,937\n",
      "Non-trainable params: 0\n",
      "_________________________________________________________________\n"
     ]
    }
   ],
   "source": [
    "train_ds = tf.keras.utils.image_dataset_from_directory(\n",
    "    data_dir,\n",
    "    validation_split=Configuration.validation_split,\n",
    "    subset=\"training\",\n",
    "    seed=123,\n",
    "    image_size=(Configuration.img_height, Configuration.img_width),\n",
    "    batch_size=Configuration.batch_size)\n",
    "\n",
    "val_ds = tf.keras.utils.image_dataset_from_directory(\n",
    "    data_dir,\n",
    "    validation_split=Configuration.validation_split,\n",
    "    subset=\"validation\",\n",
    "    seed=123,\n",
    "    image_size=(Configuration.img_height, Configuration.img_width),\n",
    "    batch_size=Configuration.batch_size)\n",
    "\n",
    "model,  class_names = HelperUtils.load_model(Configuration.existing_model_name)\n",
    "# opt = tf.keras.optimizers.SGD(learning_rate=0.01, momentum=0.9)\n",
    "# model.compile(\n",
    "#     optimizer='adam',\n",
    "#     loss=tf.keras.losses.SparseCategoricalCrossentropy(from_logits=True),\n",
    "#     metrics=['accuracy']\n",
    "# )\n",
    "model.summary()\n",
    "\n",
    "num_classes = len(class_names)\n",
    "\n",
    "# train_ds = train_ds.shuffle(500).batch(batch_size)\n",
    "# val_ds = val_ds.shuffle(500).batch(batch_size)"
   ]
  },
  {
   "cell_type": "code",
   "execution_count": 4,
   "metadata": {
    "collapsed": false,
    "jupyter": {
     "outputs_hidden": false
    },
    "pycharm": {
     "name": "#%%\n"
    }
   },
   "outputs": [
    {
     "name": "stdout",
     "output_type": "stream",
     "text": [
      "Epoch 1/10\n",
      "16/16 [==============================] - 8s 466ms/step - loss: 8.3530 - accuracy: 0.5332 - val_loss: 1.1379 - val_accuracy: 0.7008\n",
      "Epoch 2/10\n",
      "16/16 [==============================] - 7s 443ms/step - loss: 0.5405 - accuracy: 0.8281 - val_loss: 0.4634 - val_accuracy: 0.7953\n",
      "Epoch 3/10\n",
      "16/16 [==============================] - 7s 444ms/step - loss: 0.2660 - accuracy: 0.9004 - val_loss: 0.2196 - val_accuracy: 0.9528\n",
      "Epoch 4/10\n",
      "16/16 [==============================] - 7s 442ms/step - loss: 0.1614 - accuracy: 0.9492 - val_loss: 0.2226 - val_accuracy: 0.8976\n",
      "Epoch 5/10\n",
      "16/16 [==============================] - 7s 447ms/step - loss: 0.1467 - accuracy: 0.9453 - val_loss: 0.2771 - val_accuracy: 0.9213\n",
      "Epoch 6/10\n",
      "16/16 [==============================] - 7s 423ms/step - loss: 0.0770 - accuracy: 0.9766 - val_loss: 0.2800 - val_accuracy: 0.9213\n",
      "Epoch 7/10\n",
      "16/16 [==============================] - 7s 428ms/step - loss: 0.0600 - accuracy: 0.9785 - val_loss: 0.0712 - val_accuracy: 0.9764\n",
      "Epoch 8/10\n",
      "16/16 [==============================] - 7s 438ms/step - loss: 0.0324 - accuracy: 0.9941 - val_loss: 0.1351 - val_accuracy: 0.9449\n",
      "Epoch 9/10\n",
      "16/16 [==============================] - 7s 456ms/step - loss: 0.0105 - accuracy: 0.9961 - val_loss: 0.0759 - val_accuracy: 0.9528\n",
      "Epoch 10/10\n",
      "16/16 [==============================] - 7s 444ms/step - loss: 0.0013 - accuracy: 1.0000 - val_loss: 0.1011 - val_accuracy: 0.9528\n"
     ]
    }
   ],
   "source": [
    "model.fit(train_ds, validation_data=val_ds, epochs=Configuration.epochs)\n",
    "model.save(f'{Configuration.models_location}/{Configuration.model_name}.h5')"
   ]
  },
  {
   "cell_type": "code",
   "execution_count": 5,
   "metadata": {
    "collapsed": false,
    "jupyter": {
     "outputs_hidden": false
    },
    "pycharm": {
     "name": "#%%\n"
    }
   },
   "outputs": [
    {
     "name": "stdout",
     "output_type": "stream",
     "text": [
      "Downloading data from file:////home/azaleski/Documents/studia/iui/iui/test_data/99206/c0_2_P50_X4CK_original_1618572926084.jpg\n",
      "32768/29750 [=================================] - 0s 0us/step\n",
      "40960/29750 [=========================================] - 0s 0us/step\n",
      "Downloading data from file:////home/azaleski/Documents/studia/iui/iui/test_data/99206/P50_qfvt_P50_1618572908694.jpg\n",
      "16384/15169 [================================] - 0s 0us/step\n",
      "24576/15169 [================================================] - 0s 0us/step\n",
      "Downloading data from file:////home/azaleski/Documents/studia/iui/iui/test_data/915460/35378_Bright Blue_4_1619488904.jpeg\n",
      "16384/10054 [================================================] - 0s 0us/step\n",
      "24576/10054 [=========================================================================] - 0s 0us/step\n",
      "Downloading data from file:////home/azaleski/Documents/studia/iui/iui/test_data/915460/35378_Bright Blue_2_1619488902.jpeg\n",
      "16384/12583 [=======================================] - 0s 0us/step\n",
      "24576/12583 [==========================================================] - 0s 0us/step\n",
      "Downloading data from file:////home/azaleski/Documents/studia/iui/iui/test_data/915460/35378_Bright Blue_5_1619488904.jpeg\n",
      "16384/7310 [===================================================================] - 0s 0us/step\n",
      "Downloading data from file:////home/azaleski/Documents/studia/iui/iui/test_data/915460/35378_Bright Blue_3_1619488903.jpeg\n",
      "16384/12663 [======================================] - 0s 0us/step\n",
      "24576/12663 [==========================================================] - 0s 0us/step\n",
      "Downloading data from file:////home/azaleski/Documents/studia/iui/iui/test_data/915460/35378_Flame Yellowish Orange_1_1619489749.jpeg\n",
      "16384/9739 [==================================================] - 0s 0us/step\n",
      "24576/9739 [===========================================================================] - 0s 0us/step\n",
      "Downloading data from file:////home/azaleski/Documents/studia/iui/iui/test_data/915460/35378_Flame Yellowish Orange_5_1619672539.jpeg\n",
      "16384/11002 [============================================] - 0s 0us/step\n",
      "24576/11002 [===================================================================] - 0s 0us/step\n",
      "Downloading data from file:////home/azaleski/Documents/studia/iui/iui/test_data/915460/35378_Flame Yellowish Orange_0_1619489748.jpeg\n",
      "16384/7142 [====================================================================] - 0s 0us/step\n",
      "Downloading data from file:////home/azaleski/Documents/studia/iui/iui/test_data/915460/35378_Flame Yellowish Orange_4_1619672538.jpeg\n",
      "24576/17352 [==========================================] - 0s 0us/step\n",
      "32768/17352 [========================================================] - 0s 0us/step\n",
      "Downloading data from file:////home/azaleski/Documents/studia/iui/iui/test_data/915460/35378_Flame Yellowish Orange_4_1619489752.jpeg\n",
      "16384/8348 [==========================================================] - 0s 0us/step\n",
      "24576/8348 [========================================================================================] - 0s 0us/step\n",
      "Downloading data from file:////home/azaleski/Documents/studia/iui/iui/test_data/915460/35378_Flame Yellowish Orange_0_1619672537.jpeg\n",
      "16384/9036 [======================================================] - 0s 0us/step\n",
      "24576/9036 [=================================================================================] - 0s 0us/step\n",
      "Downloading data from file:////home/azaleski/Documents/studia/iui/iui/test_data/915460/35378_Flame Yellowish Orange_2_1619672537.jpeg\n",
      "32768/27312 [===================================] - 0s 0us/step\n",
      "40960/27312 [============================================] - 0s 0us/step\n",
      "Downloading data from file:////home/azaleski/Documents/studia/iui/iui/test_data/915460/35378_Flame Yellowish Orange_3_1619672538.jpeg\n",
      "32768/31672 [===============================] - 0s 0us/step\n",
      "40960/31672 [======================================] - 0s 0us/step\n",
      "Downloading data from file:////home/azaleski/Documents/studia/iui/iui/test_data/915460/35378_Flame Yellowish Orange_1_1619672537.jpeg\n",
      "16384/13660 [===================================] - 0s 0us/step\n",
      "24576/13660 [=====================================================] - 0s 0us/step\n",
      "Downloading data from file:////home/azaleski/Documents/studia/iui/iui/test_data/915460/35378_Bright Blue_1_1619488901.jpeg\n",
      "16384/8846 [=======================================================] - 0s 0us/step\n",
      "24576/8846 [===================================================================================] - 0s 0us/step\n",
      "Downloading data from file:////home/azaleski/Documents/studia/iui/iui/test_data/915460/35378_Flame Yellowish Orange_3_1619489751.jpeg\n",
      "16384/12322 [=======================================] - 0s 0us/step\n",
      "24576/12322 [===========================================================] - 0s 0us/step\n",
      "Downloading data from file:////home/azaleski/Documents/studia/iui/iui/test_data/915460/35378_Flame Yellowish Orange_2_1619489750.jpeg\n",
      "16384/15454 [===============================] - 0s 0us/step\n",
      "24576/15454 [===============================================] - 0s 0us/step\n",
      "Downloading data from file:////home/azaleski/Documents/studia/iui/iui/test_data/915460/35378_Flame Yellowish Orange_5_1619489752.jpeg\n",
      "16384/5883 [===================================================================================] - 0s 0us/step\n",
      "Downloading data from file:////home/azaleski/Documents/studia/iui/iui/test_data/915460/35378_Bright Blue_0_1619488900.jpeg\n",
      "16384/6611 [==========================================================================] - 0s 0us/step\n",
      "Downloading data from file:////home/azaleski/Documents/studia/iui/iui/test_data/2420/c0_1_P43_X6xu_original_1618572393300.jpg\n",
      "16384/6297 [==============================================================================] - 0s 0us/step\n",
      "Downloading data from file:////home/azaleski/Documents/studia/iui/iui/test_data/2420/P43_56dz_P43_1618572375827.jpg\n",
      "16384/11381 [===========================================] - 0s 0us/step\n",
      "24576/11381 [================================================================] - 0s 0us/step\n",
      "Downloading data from file:////home/azaleski/Documents/studia/iui/iui/test_data/2420/P43_TDGu_P43_1618572365712.jpg\n",
      "16384/15229 [================================] - 0s 0us/step\n",
      "24576/15229 [================================================] - 0s 0us/step\n",
      "Downloading data from file:////home/azaleski/Documents/studia/iui/iui/test_data/88646/c0_1_P42_Slsl_original_1618396704013.jpg\n",
      "32768/28380 [==================================] - 0s 0us/step\n",
      "40960/28380 [===========================================] - 0s 0us/step\n",
      "Downloading data from file:////home/azaleski/Documents/studia/iui/iui/test_data/92907/c0_2_Gsui_original-T23_1621411488451.jpg\n",
      "16384/15650 [===============================] - 0s 0us/step\n",
      "24576/15650 [===============================================] - 0s 0us/step\n",
      "Downloading data from file:////home/azaleski/Documents/studia/iui/iui/test_data/92907/Gsui_T23_1621411488449.jpg\n",
      "16384/15669 [===============================] - 0s 0us/step\n",
      "24576/15669 [===============================================] - 0s 0us/step\n",
      "Downloading data from file:////home/azaleski/Documents/studia/iui/iui/test_data/43713/B2_nMPI_B2_1618996575203.jpg\n",
      "49152/47887 [==============================] - 0s 0us/step\n",
      "57344/47887 [===================================] - 0s 0us/step\n",
      "Downloading data from file:////home/azaleski/Documents/studia/iui/iui/test_data/43713/B2_W9U4_B2_1618996605608.jpg\n",
      "40960/37692 [================================] - 0s 0us/step\n",
      "49152/37692 [=======================================] - 0s 0us/step\n",
      "Downloading data from file:////home/azaleski/Documents/studia/iui/iui/test_data/43898/F6_dCiY_F6_1619600709872.jpg\n",
      "16384/11048 [============================================] - 0s 0us/step\n",
      "24576/11048 [==================================================================] - 0s 0us/step\n",
      "Downloading data from file:////home/azaleski/Documents/studia/iui/iui/test_data/43898/c2_2_F6_bcU4_original_1619600733320.jpg\n",
      "16384/14753 [=================================] - 0s 0us/step\n",
      "24576/14753 [=================================================] - 0s 0us/step\n",
      "Downloading data from file:////home/azaleski/Documents/studia/iui/iui/test_data/43898/c0_1_F6_ImhL_original_1619600612424.jpg\n",
      "24576/17107 [===========================================] - 0s 0us/step\n",
      "32768/17107 [=========================================================] - 0s 0us/step\n",
      "Downloading data from file:////home/azaleski/Documents/studia/iui/iui/test_data/4460b/c0_1_B15_S80v_original_1618305890764.jpg\n",
      "16384/4507 [=============================================================================================================] - 0s 0us/step\n",
      "Downloading data from file:////home/azaleski/Documents/studia/iui/iui/test_data/4460b/B15_jgxl_B15_1618305884455.jpg\n",
      "16384/5355 [===========================================================================================] - 0s 0us/step\n",
      "Downloading data from file:////home/azaleski/Documents/studia/iui/iui/test_data/43719/P8_cGM2_P8_1619088524002.jpg\n",
      "24576/22457 [================================] - 0s 0us/step\n",
      "32768/22457 [===========================================] - 0s 0us/step\n",
      "Downloading data from file:////home/azaleski/Documents/studia/iui/iui/test_data/43719/c0_2_P8_RUY6_original_1619088491932.jpg\n",
      "32768/30047 [================================] - 0s 0us/step\n",
      "40960/30047 [========================================] - 0s 0us/step\n",
      "                                             image   class prediction Correct\n",
      "0         c0_2_P50_X4CK_original_1618572926084.jpg   99206      10928      No\n",
      "1                   P50_qfvt_P50_1618572908694.jpg   99206      10201      No\n",
      "2              35378_Bright Blue_4_1619488904.jpeg  915460      10314      No\n",
      "3              35378_Bright Blue_2_1619488902.jpeg  915460      10314      No\n",
      "4              35378_Bright Blue_5_1619488904.jpeg  915460      10314      No\n",
      "5              35378_Bright Blue_3_1619488903.jpeg  915460      10314      No\n",
      "6   35378_Flame Yellowish Orange_1_1619489749.jpeg  915460      10201      No\n",
      "7   35378_Flame Yellowish Orange_5_1619672539.jpeg  915460      11090      No\n",
      "8   35378_Flame Yellowish Orange_0_1619489748.jpeg  915460      11090      No\n",
      "9   35378_Flame Yellowish Orange_4_1619672538.jpeg  915460      10197      No\n",
      "10  35378_Flame Yellowish Orange_4_1619489752.jpeg  915460      10197      No\n",
      "11  35378_Flame Yellowish Orange_0_1619672537.jpeg  915460      10197      No\n",
      "12  35378_Flame Yellowish Orange_2_1619672537.jpeg  915460      11153      No\n",
      "13  35378_Flame Yellowish Orange_3_1619672538.jpeg  915460      11153      No\n",
      "14  35378_Flame Yellowish Orange_1_1619672537.jpeg  915460      10197      No\n",
      "15             35378_Bright Blue_1_1619488901.jpeg  915460      10197      No\n",
      "16  35378_Flame Yellowish Orange_3_1619489751.jpeg  915460      10197      No\n",
      "17  35378_Flame Yellowish Orange_2_1619489750.jpeg  915460      10201      No\n",
      "18  35378_Flame Yellowish Orange_5_1619489752.jpeg  915460      10201      No\n",
      "19             35378_Bright Blue_0_1619488900.jpeg  915460      10314      No\n",
      "20        c0_1_P43_X6xu_original_1618572393300.jpg    2420      10314      No\n",
      "21                  P43_56dz_P43_1618572375827.jpg    2420      10201      No\n",
      "22                  P43_TDGu_P43_1618572365712.jpg    2420      11090      No\n",
      "23        c0_1_P42_Slsl_original_1618396704013.jpg   88646      11153      No\n",
      "24        c0_2_Gsui_original-T23_1621411488451.jpg   92907      10314      No\n",
      "25                      Gsui_T23_1621411488449.jpg   92907      10314      No\n",
      "26                    B2_nMPI_B2_1618996575203.jpg   43713      11153      No\n",
      "27                    B2_W9U4_B2_1618996605608.jpg   43713      11153      No\n",
      "28                    F6_dCiY_F6_1619600709872.jpg   43898      10314      No\n",
      "29         c2_2_F6_bcU4_original_1619600733320.jpg   43898      10288      No\n",
      "30         c0_1_F6_ImhL_original_1619600612424.jpg   43898      10201      No\n",
      "31        c0_1_B15_S80v_original_1618305890764.jpg   4460b      11090      No\n",
      "32                  B15_jgxl_B15_1618305884455.jpg   4460b      10197      No\n",
      "33                    P8_cGM2_P8_1619088524002.jpg   43719      10201      No\n",
      "34         c0_2_P8_RUY6_original_1619088491932.jpg   43719      10201      No\n",
      "Test results: 0 / 35 (0.00%)\n"
     ]
    }
   ],
   "source": [
    "TestingUtil.test_with_test_set(model, class_names)"
   ]
  },
  {
   "cell_type": "code",
   "execution_count": null,
   "metadata": {
    "collapsed": false,
    "jupyter": {
     "outputs_hidden": false
    },
    "pycharm": {
     "name": "#%%\n"
    }
   },
   "outputs": [],
   "source": []
  }
 ],
 "metadata": {
  "kernelspec": {
   "display_name": "Python 3 (ipykernel)",
   "language": "python",
   "name": "python3"
  },
  "language_info": {
   "codemirror_mode": {
    "name": "ipython",
    "version": 3
   },
   "file_extension": ".py",
   "mimetype": "text/x-python",
   "name": "python",
   "nbconvert_exporter": "python",
   "pygments_lexer": "ipython3",
   "version": "3.8.10"
  }
 },
 "nbformat": 4,
 "nbformat_minor": 4
}
