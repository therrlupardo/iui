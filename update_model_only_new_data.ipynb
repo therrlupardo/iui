{
 "cells": [
  {
   "cell_type": "code",
   "execution_count": 2,
   "metadata": {
    "collapsed": true
   },
   "outputs": [],
   "source": [
    "import tensorflow as tf\n",
    "\n",
    "from utils.helper_utils import HelperUtils\n",
    "from configuration import Configuration\n",
    "from utils.testing_util import TestingUtil"
   ]
  },
  {
   "cell_type": "code",
   "execution_count": 3,
   "outputs": [
    {
     "name": "stdout",
     "output_type": "stream",
     "text": [
      "Loading data from file:///C:\\Users\\thehe\\dev\\studies\\iui\\iui\\data\\updated.zip\n",
      "Downloading data from file:///C:\\Users\\thehe\\dev\\studies\\iui\\iui\\data\\updated.zip\n",
      "132120576/132116973 [==============================] - 0s 0us/step\n",
      "132128768/132116973 [==============================] - 0s 0us/step\n"
     ]
    }
   ],
   "source": [
    "data_dir = HelperUtils.load_data(f'{Configuration.data_location}/{Configuration.model_name}.zip', f'{Configuration.model_name}_dataset')\n",
    "HelperUtils.convert_dataset(data_dir)"
   ],
   "metadata": {
    "collapsed": false,
    "pycharm": {
     "name": "#%%\n"
    }
   }
  },
  {
   "cell_type": "code",
   "execution_count": 4,
   "outputs": [
    {
     "name": "stdout",
     "output_type": "stream",
     "text": [
      "Found 86034 files belonging to 440 classes.\n",
      "Using 68828 files for training.\n",
      "Found 86034 files belonging to 440 classes.\n",
      "Using 17206 files for validation.\n"
     ]
    }
   ],
   "source": [
    "train_ds = tf.keras.utils.image_dataset_from_directory(\n",
    "    data_dir,\n",
    "    validation_split=Configuration.validation_split,\n",
    "    subset=\"training\",\n",
    "    seed=123,\n",
    "    image_size=(Configuration.img_height, Configuration.img_width),\n",
    "    batch_size=Configuration.batch_size)\n",
    "\n",
    "val_ds = tf.keras.utils.image_dataset_from_directory(\n",
    "    data_dir,\n",
    "    validation_split=Configuration.validation_split,\n",
    "    subset=\"validation\",\n",
    "    seed=123,\n",
    "    image_size=(Configuration.img_height, Configuration.img_width),\n",
    "    batch_size=Configuration.batch_size)\n",
    "\n",
    "class_names = train_ds.class_names\n",
    "\n",
    "num_classes = len(class_names)\n",
    "\n",
    "# train_ds = train_ds.shuffle(500).batch(batch_size)\n",
    "# val_ds = val_ds.shuffle(500).batch(batch_size)"
   ],
   "metadata": {
    "collapsed": false,
    "pycharm": {
     "name": "#%%\n"
    }
   }
  },
  {
   "cell_type": "code",
   "execution_count": 10,
   "outputs": [
    {
     "name": "stdout",
     "output_type": "stream",
     "text": [
      "Model: \"sequential\"\n",
      "_________________________________________________________________\n",
      " Layer (type)                Output Shape              Param #   \n",
      "=================================================================\n",
      " rescaling (Rescaling)       (None, 180, 180, 3)       0         \n",
      "                                                                 \n",
      " conv2d (Conv2D)             (None, 180, 180, 16)      448       \n",
      "                                                                 \n",
      " max_pooling2d (MaxPooling2D  (None, 90, 90, 16)       0         \n",
      " )                                                               \n",
      "                                                                 \n",
      " conv2d_1 (Conv2D)           (None, 90, 90, 32)        4640      \n",
      "                                                                 \n",
      " max_pooling2d_1 (MaxPooling  (None, 45, 45, 32)       0         \n",
      " 2D)                                                             \n",
      "                                                                 \n",
      " conv2d_2 (Conv2D)           (None, 45, 45, 64)        18496     \n",
      "                                                                 \n",
      " max_pooling2d_2 (MaxPooling  (None, 22, 22, 64)       0         \n",
      " 2D)                                                             \n",
      "                                                                 \n",
      " flatten (Flatten)           (None, 30976)             0         \n",
      "                                                                 \n",
      " dense (Dense)               (None, 512)               15860224  \n",
      "                                                                 \n",
      " dense_1 (Dense)             (None, 435)               223155    \n",
      "                                                                 \n",
      "=================================================================\n",
      "Total params: 16,106,963\n",
      "Trainable params: 16,106,963\n",
      "Non-trainable params: 0\n",
      "_________________________________________________________________\n"
     ]
    }
   ],
   "source": [
    "model,  prev_class_names = HelperUtils.load_model(Configuration.existing_model_name)\n",
    "# opt = tf.keras.optimizers.SGD(learning_rate=0.01, momentum=0.9)\n",
    "# model.compile(\n",
    "#     optimizer='adam',\n",
    "#     loss=tf.keras.losses.SparseCategoricalCrossentropy(from_logits=True),\n",
    "#     metrics=['accuracy']\n",
    "# )\n",
    "model.summary()"
   ],
   "metadata": {
    "collapsed": false,
    "pycharm": {
     "name": "#%%\n"
    }
   }
  },
  {
   "cell_type": "code",
   "execution_count": 11,
   "outputs": [
    {
     "name": "stdout",
     "output_type": "stream",
     "text": [
      "Epoch 1/10\n",
      " 150/2151 [=>............................] - ETA: 31s - loss: nan - accuracy: 0.0092"
     ]
    },
    {
     "ename": "KeyboardInterrupt",
     "evalue": "",
     "output_type": "error",
     "traceback": [
      "\u001B[1;31m---------------------------------------------------------------------------\u001B[0m",
      "\u001B[1;31mKeyboardInterrupt\u001B[0m                         Traceback (most recent call last)",
      "\u001B[1;32m~\\AppData\\Local\\Temp/ipykernel_21348/2602091364.py\u001B[0m in \u001B[0;36m<module>\u001B[1;34m\u001B[0m\n\u001B[1;32m----> 1\u001B[1;33m \u001B[0mmodel\u001B[0m\u001B[1;33m.\u001B[0m\u001B[0mfit\u001B[0m\u001B[1;33m(\u001B[0m\u001B[0mtrain_ds\u001B[0m\u001B[1;33m,\u001B[0m \u001B[0mvalidation_data\u001B[0m\u001B[1;33m=\u001B[0m\u001B[0mval_ds\u001B[0m\u001B[1;33m,\u001B[0m \u001B[0mepochs\u001B[0m\u001B[1;33m=\u001B[0m\u001B[0mConfiguration\u001B[0m\u001B[1;33m.\u001B[0m\u001B[0mepochs\u001B[0m\u001B[1;33m)\u001B[0m\u001B[1;33m\u001B[0m\u001B[1;33m\u001B[0m\u001B[0m\n\u001B[0m\u001B[0;32m      2\u001B[0m \u001B[0mmodel\u001B[0m\u001B[1;33m.\u001B[0m\u001B[0msave\u001B[0m\u001B[1;33m(\u001B[0m\u001B[1;34mf'{Configuration.models_location}/{Configuration.model_name}.h5'\u001B[0m\u001B[1;33m)\u001B[0m\u001B[1;33m\u001B[0m\u001B[1;33m\u001B[0m\u001B[0m\n",
      "\u001B[1;32m~\\anaconda3\\envs\\tf\\lib\\site-packages\\keras\\utils\\traceback_utils.py\u001B[0m in \u001B[0;36merror_handler\u001B[1;34m(*args, **kwargs)\u001B[0m\n\u001B[0;32m     62\u001B[0m     \u001B[0mfiltered_tb\u001B[0m \u001B[1;33m=\u001B[0m \u001B[1;32mNone\u001B[0m\u001B[1;33m\u001B[0m\u001B[1;33m\u001B[0m\u001B[0m\n\u001B[0;32m     63\u001B[0m     \u001B[1;32mtry\u001B[0m\u001B[1;33m:\u001B[0m\u001B[1;33m\u001B[0m\u001B[1;33m\u001B[0m\u001B[0m\n\u001B[1;32m---> 64\u001B[1;33m       \u001B[1;32mreturn\u001B[0m \u001B[0mfn\u001B[0m\u001B[1;33m(\u001B[0m\u001B[1;33m*\u001B[0m\u001B[0margs\u001B[0m\u001B[1;33m,\u001B[0m \u001B[1;33m**\u001B[0m\u001B[0mkwargs\u001B[0m\u001B[1;33m)\u001B[0m\u001B[1;33m\u001B[0m\u001B[1;33m\u001B[0m\u001B[0m\n\u001B[0m\u001B[0;32m     65\u001B[0m     \u001B[1;32mexcept\u001B[0m \u001B[0mException\u001B[0m \u001B[1;32mas\u001B[0m \u001B[0me\u001B[0m\u001B[1;33m:\u001B[0m  \u001B[1;31m# pylint: disable=broad-except\u001B[0m\u001B[1;33m\u001B[0m\u001B[1;33m\u001B[0m\u001B[0m\n\u001B[0;32m     66\u001B[0m       \u001B[0mfiltered_tb\u001B[0m \u001B[1;33m=\u001B[0m \u001B[0m_process_traceback_frames\u001B[0m\u001B[1;33m(\u001B[0m\u001B[0me\u001B[0m\u001B[1;33m.\u001B[0m\u001B[0m__traceback__\u001B[0m\u001B[1;33m)\u001B[0m\u001B[1;33m\u001B[0m\u001B[1;33m\u001B[0m\u001B[0m\n",
      "\u001B[1;32m~\\anaconda3\\envs\\tf\\lib\\site-packages\\keras\\engine\\training.py\u001B[0m in \u001B[0;36mfit\u001B[1;34m(self, x, y, batch_size, epochs, verbose, callbacks, validation_split, validation_data, shuffle, class_weight, sample_weight, initial_epoch, steps_per_epoch, validation_steps, validation_batch_size, validation_freq, max_queue_size, workers, use_multiprocessing)\u001B[0m\n\u001B[0;32m   1219\u001B[0m               \u001B[0mlogs\u001B[0m \u001B[1;33m=\u001B[0m \u001B[0mtmp_logs\u001B[0m  \u001B[1;31m# No error, now safe to assign to logs.\u001B[0m\u001B[1;33m\u001B[0m\u001B[1;33m\u001B[0m\u001B[0m\n\u001B[0;32m   1220\u001B[0m               \u001B[0mend_step\u001B[0m \u001B[1;33m=\u001B[0m \u001B[0mstep\u001B[0m \u001B[1;33m+\u001B[0m \u001B[0mdata_handler\u001B[0m\u001B[1;33m.\u001B[0m\u001B[0mstep_increment\u001B[0m\u001B[1;33m\u001B[0m\u001B[1;33m\u001B[0m\u001B[0m\n\u001B[1;32m-> 1221\u001B[1;33m               \u001B[0mcallbacks\u001B[0m\u001B[1;33m.\u001B[0m\u001B[0mon_train_batch_end\u001B[0m\u001B[1;33m(\u001B[0m\u001B[0mend_step\u001B[0m\u001B[1;33m,\u001B[0m \u001B[0mlogs\u001B[0m\u001B[1;33m)\u001B[0m\u001B[1;33m\u001B[0m\u001B[1;33m\u001B[0m\u001B[0m\n\u001B[0m\u001B[0;32m   1222\u001B[0m               \u001B[1;32mif\u001B[0m \u001B[0mself\u001B[0m\u001B[1;33m.\u001B[0m\u001B[0mstop_training\u001B[0m\u001B[1;33m:\u001B[0m\u001B[1;33m\u001B[0m\u001B[1;33m\u001B[0m\u001B[0m\n\u001B[0;32m   1223\u001B[0m                 \u001B[1;32mbreak\u001B[0m\u001B[1;33m\u001B[0m\u001B[1;33m\u001B[0m\u001B[0m\n",
      "\u001B[1;32m~\\anaconda3\\envs\\tf\\lib\\site-packages\\keras\\callbacks.py\u001B[0m in \u001B[0;36mon_train_batch_end\u001B[1;34m(self, batch, logs)\u001B[0m\n\u001B[0;32m    434\u001B[0m     \"\"\"\n\u001B[0;32m    435\u001B[0m     \u001B[1;32mif\u001B[0m \u001B[0mself\u001B[0m\u001B[1;33m.\u001B[0m\u001B[0m_should_call_train_batch_hooks\u001B[0m\u001B[1;33m:\u001B[0m\u001B[1;33m\u001B[0m\u001B[1;33m\u001B[0m\u001B[0m\n\u001B[1;32m--> 436\u001B[1;33m       \u001B[0mself\u001B[0m\u001B[1;33m.\u001B[0m\u001B[0m_call_batch_hook\u001B[0m\u001B[1;33m(\u001B[0m\u001B[0mModeKeys\u001B[0m\u001B[1;33m.\u001B[0m\u001B[0mTRAIN\u001B[0m\u001B[1;33m,\u001B[0m \u001B[1;34m'end'\u001B[0m\u001B[1;33m,\u001B[0m \u001B[0mbatch\u001B[0m\u001B[1;33m,\u001B[0m \u001B[0mlogs\u001B[0m\u001B[1;33m=\u001B[0m\u001B[0mlogs\u001B[0m\u001B[1;33m)\u001B[0m\u001B[1;33m\u001B[0m\u001B[1;33m\u001B[0m\u001B[0m\n\u001B[0m\u001B[0;32m    437\u001B[0m \u001B[1;33m\u001B[0m\u001B[0m\n\u001B[0;32m    438\u001B[0m   \u001B[1;32mdef\u001B[0m \u001B[0mon_test_batch_begin\u001B[0m\u001B[1;33m(\u001B[0m\u001B[0mself\u001B[0m\u001B[1;33m,\u001B[0m \u001B[0mbatch\u001B[0m\u001B[1;33m,\u001B[0m \u001B[0mlogs\u001B[0m\u001B[1;33m=\u001B[0m\u001B[1;32mNone\u001B[0m\u001B[1;33m)\u001B[0m\u001B[1;33m:\u001B[0m\u001B[1;33m\u001B[0m\u001B[1;33m\u001B[0m\u001B[0m\n",
      "\u001B[1;32m~\\anaconda3\\envs\\tf\\lib\\site-packages\\keras\\callbacks.py\u001B[0m in \u001B[0;36m_call_batch_hook\u001B[1;34m(self, mode, hook, batch, logs)\u001B[0m\n\u001B[0;32m    293\u001B[0m       \u001B[0mself\u001B[0m\u001B[1;33m.\u001B[0m\u001B[0m_call_batch_begin_hook\u001B[0m\u001B[1;33m(\u001B[0m\u001B[0mmode\u001B[0m\u001B[1;33m,\u001B[0m \u001B[0mbatch\u001B[0m\u001B[1;33m,\u001B[0m \u001B[0mlogs\u001B[0m\u001B[1;33m)\u001B[0m\u001B[1;33m\u001B[0m\u001B[1;33m\u001B[0m\u001B[0m\n\u001B[0;32m    294\u001B[0m     \u001B[1;32melif\u001B[0m \u001B[0mhook\u001B[0m \u001B[1;33m==\u001B[0m \u001B[1;34m'end'\u001B[0m\u001B[1;33m:\u001B[0m\u001B[1;33m\u001B[0m\u001B[1;33m\u001B[0m\u001B[0m\n\u001B[1;32m--> 295\u001B[1;33m       \u001B[0mself\u001B[0m\u001B[1;33m.\u001B[0m\u001B[0m_call_batch_end_hook\u001B[0m\u001B[1;33m(\u001B[0m\u001B[0mmode\u001B[0m\u001B[1;33m,\u001B[0m \u001B[0mbatch\u001B[0m\u001B[1;33m,\u001B[0m \u001B[0mlogs\u001B[0m\u001B[1;33m)\u001B[0m\u001B[1;33m\u001B[0m\u001B[1;33m\u001B[0m\u001B[0m\n\u001B[0m\u001B[0;32m    296\u001B[0m     \u001B[1;32melse\u001B[0m\u001B[1;33m:\u001B[0m\u001B[1;33m\u001B[0m\u001B[1;33m\u001B[0m\u001B[0m\n\u001B[0;32m    297\u001B[0m       raise ValueError(\n",
      "\u001B[1;32m~\\anaconda3\\envs\\tf\\lib\\site-packages\\keras\\callbacks.py\u001B[0m in \u001B[0;36m_call_batch_end_hook\u001B[1;34m(self, mode, batch, logs)\u001B[0m\n\u001B[0;32m    314\u001B[0m       \u001B[0mself\u001B[0m\u001B[1;33m.\u001B[0m\u001B[0m_batch_times\u001B[0m\u001B[1;33m.\u001B[0m\u001B[0mappend\u001B[0m\u001B[1;33m(\u001B[0m\u001B[0mbatch_time\u001B[0m\u001B[1;33m)\u001B[0m\u001B[1;33m\u001B[0m\u001B[1;33m\u001B[0m\u001B[0m\n\u001B[0;32m    315\u001B[0m \u001B[1;33m\u001B[0m\u001B[0m\n\u001B[1;32m--> 316\u001B[1;33m     \u001B[0mself\u001B[0m\u001B[1;33m.\u001B[0m\u001B[0m_call_batch_hook_helper\u001B[0m\u001B[1;33m(\u001B[0m\u001B[0mhook_name\u001B[0m\u001B[1;33m,\u001B[0m \u001B[0mbatch\u001B[0m\u001B[1;33m,\u001B[0m \u001B[0mlogs\u001B[0m\u001B[1;33m)\u001B[0m\u001B[1;33m\u001B[0m\u001B[1;33m\u001B[0m\u001B[0m\n\u001B[0m\u001B[0;32m    317\u001B[0m \u001B[1;33m\u001B[0m\u001B[0m\n\u001B[0;32m    318\u001B[0m     \u001B[1;32mif\u001B[0m \u001B[0mlen\u001B[0m\u001B[1;33m(\u001B[0m\u001B[0mself\u001B[0m\u001B[1;33m.\u001B[0m\u001B[0m_batch_times\u001B[0m\u001B[1;33m)\u001B[0m \u001B[1;33m>=\u001B[0m \u001B[0mself\u001B[0m\u001B[1;33m.\u001B[0m\u001B[0m_num_batches_for_timing_check\u001B[0m\u001B[1;33m:\u001B[0m\u001B[1;33m\u001B[0m\u001B[1;33m\u001B[0m\u001B[0m\n",
      "\u001B[1;32m~\\anaconda3\\envs\\tf\\lib\\site-packages\\keras\\callbacks.py\u001B[0m in \u001B[0;36m_call_batch_hook_helper\u001B[1;34m(self, hook_name, batch, logs)\u001B[0m\n\u001B[0;32m    352\u001B[0m     \u001B[1;32mfor\u001B[0m \u001B[0mcallback\u001B[0m \u001B[1;32min\u001B[0m \u001B[0mself\u001B[0m\u001B[1;33m.\u001B[0m\u001B[0mcallbacks\u001B[0m\u001B[1;33m:\u001B[0m\u001B[1;33m\u001B[0m\u001B[1;33m\u001B[0m\u001B[0m\n\u001B[0;32m    353\u001B[0m       \u001B[0mhook\u001B[0m \u001B[1;33m=\u001B[0m \u001B[0mgetattr\u001B[0m\u001B[1;33m(\u001B[0m\u001B[0mcallback\u001B[0m\u001B[1;33m,\u001B[0m \u001B[0mhook_name\u001B[0m\u001B[1;33m)\u001B[0m\u001B[1;33m\u001B[0m\u001B[1;33m\u001B[0m\u001B[0m\n\u001B[1;32m--> 354\u001B[1;33m       \u001B[0mhook\u001B[0m\u001B[1;33m(\u001B[0m\u001B[0mbatch\u001B[0m\u001B[1;33m,\u001B[0m \u001B[0mlogs\u001B[0m\u001B[1;33m)\u001B[0m\u001B[1;33m\u001B[0m\u001B[1;33m\u001B[0m\u001B[0m\n\u001B[0m\u001B[0;32m    355\u001B[0m \u001B[1;33m\u001B[0m\u001B[0m\n\u001B[0;32m    356\u001B[0m     \u001B[1;32mif\u001B[0m \u001B[0mself\u001B[0m\u001B[1;33m.\u001B[0m\u001B[0m_check_timing\u001B[0m\u001B[1;33m:\u001B[0m\u001B[1;33m\u001B[0m\u001B[1;33m\u001B[0m\u001B[0m\n",
      "\u001B[1;32m~\\anaconda3\\envs\\tf\\lib\\site-packages\\keras\\callbacks.py\u001B[0m in \u001B[0;36mon_train_batch_end\u001B[1;34m(self, batch, logs)\u001B[0m\n\u001B[0;32m   1030\u001B[0m \u001B[1;33m\u001B[0m\u001B[0m\n\u001B[0;32m   1031\u001B[0m   \u001B[1;32mdef\u001B[0m \u001B[0mon_train_batch_end\u001B[0m\u001B[1;33m(\u001B[0m\u001B[0mself\u001B[0m\u001B[1;33m,\u001B[0m \u001B[0mbatch\u001B[0m\u001B[1;33m,\u001B[0m \u001B[0mlogs\u001B[0m\u001B[1;33m=\u001B[0m\u001B[1;32mNone\u001B[0m\u001B[1;33m)\u001B[0m\u001B[1;33m:\u001B[0m\u001B[1;33m\u001B[0m\u001B[1;33m\u001B[0m\u001B[0m\n\u001B[1;32m-> 1032\u001B[1;33m     \u001B[0mself\u001B[0m\u001B[1;33m.\u001B[0m\u001B[0m_batch_update_progbar\u001B[0m\u001B[1;33m(\u001B[0m\u001B[0mbatch\u001B[0m\u001B[1;33m,\u001B[0m \u001B[0mlogs\u001B[0m\u001B[1;33m)\u001B[0m\u001B[1;33m\u001B[0m\u001B[1;33m\u001B[0m\u001B[0m\n\u001B[0m\u001B[0;32m   1033\u001B[0m \u001B[1;33m\u001B[0m\u001B[0m\n\u001B[0;32m   1034\u001B[0m   \u001B[1;32mdef\u001B[0m \u001B[0mon_test_batch_end\u001B[0m\u001B[1;33m(\u001B[0m\u001B[0mself\u001B[0m\u001B[1;33m,\u001B[0m \u001B[0mbatch\u001B[0m\u001B[1;33m,\u001B[0m \u001B[0mlogs\u001B[0m\u001B[1;33m=\u001B[0m\u001B[1;32mNone\u001B[0m\u001B[1;33m)\u001B[0m\u001B[1;33m:\u001B[0m\u001B[1;33m\u001B[0m\u001B[1;33m\u001B[0m\u001B[0m\n",
      "\u001B[1;32m~\\anaconda3\\envs\\tf\\lib\\site-packages\\keras\\callbacks.py\u001B[0m in \u001B[0;36m_batch_update_progbar\u001B[1;34m(self, batch, logs)\u001B[0m\n\u001B[0;32m   1102\u001B[0m     \u001B[1;32mif\u001B[0m \u001B[0mself\u001B[0m\u001B[1;33m.\u001B[0m\u001B[0mverbose\u001B[0m \u001B[1;33m==\u001B[0m \u001B[1;36m1\u001B[0m\u001B[1;33m:\u001B[0m\u001B[1;33m\u001B[0m\u001B[1;33m\u001B[0m\u001B[0m\n\u001B[0;32m   1103\u001B[0m       \u001B[1;31m# Only block async when verbose = 1.\u001B[0m\u001B[1;33m\u001B[0m\u001B[1;33m\u001B[0m\u001B[0m\n\u001B[1;32m-> 1104\u001B[1;33m       \u001B[0mlogs\u001B[0m \u001B[1;33m=\u001B[0m \u001B[0mtf_utils\u001B[0m\u001B[1;33m.\u001B[0m\u001B[0msync_to_numpy_or_python_type\u001B[0m\u001B[1;33m(\u001B[0m\u001B[0mlogs\u001B[0m\u001B[1;33m)\u001B[0m\u001B[1;33m\u001B[0m\u001B[1;33m\u001B[0m\u001B[0m\n\u001B[0m\u001B[0;32m   1105\u001B[0m       \u001B[0mself\u001B[0m\u001B[1;33m.\u001B[0m\u001B[0mprogbar\u001B[0m\u001B[1;33m.\u001B[0m\u001B[0mupdate\u001B[0m\u001B[1;33m(\u001B[0m\u001B[0mself\u001B[0m\u001B[1;33m.\u001B[0m\u001B[0mseen\u001B[0m\u001B[1;33m,\u001B[0m \u001B[0mlist\u001B[0m\u001B[1;33m(\u001B[0m\u001B[0mlogs\u001B[0m\u001B[1;33m.\u001B[0m\u001B[0mitems\u001B[0m\u001B[1;33m(\u001B[0m\u001B[1;33m)\u001B[0m\u001B[1;33m)\u001B[0m\u001B[1;33m,\u001B[0m \u001B[0mfinalize\u001B[0m\u001B[1;33m=\u001B[0m\u001B[1;32mFalse\u001B[0m\u001B[1;33m)\u001B[0m\u001B[1;33m\u001B[0m\u001B[1;33m\u001B[0m\u001B[0m\n\u001B[0;32m   1106\u001B[0m \u001B[1;33m\u001B[0m\u001B[0m\n",
      "\u001B[1;32m~\\anaconda3\\envs\\tf\\lib\\site-packages\\keras\\utils\\tf_utils.py\u001B[0m in \u001B[0;36msync_to_numpy_or_python_type\u001B[1;34m(tensors)\u001B[0m\n\u001B[0;32m    552\u001B[0m     \u001B[1;32mreturn\u001B[0m \u001B[0mt\u001B[0m  \u001B[1;31m# Don't turn ragged or sparse tensors to NumPy.\u001B[0m\u001B[1;33m\u001B[0m\u001B[1;33m\u001B[0m\u001B[0m\n\u001B[0;32m    553\u001B[0m \u001B[1;33m\u001B[0m\u001B[0m\n\u001B[1;32m--> 554\u001B[1;33m   \u001B[1;32mreturn\u001B[0m \u001B[0mtf\u001B[0m\u001B[1;33m.\u001B[0m\u001B[0mnest\u001B[0m\u001B[1;33m.\u001B[0m\u001B[0mmap_structure\u001B[0m\u001B[1;33m(\u001B[0m\u001B[0m_to_single_numpy_or_python_type\u001B[0m\u001B[1;33m,\u001B[0m \u001B[0mtensors\u001B[0m\u001B[1;33m)\u001B[0m\u001B[1;33m\u001B[0m\u001B[1;33m\u001B[0m\u001B[0m\n\u001B[0m\u001B[0;32m    555\u001B[0m \u001B[1;33m\u001B[0m\u001B[0m\n\u001B[0;32m    556\u001B[0m \u001B[1;33m\u001B[0m\u001B[0m\n",
      "\u001B[1;32m~\\anaconda3\\envs\\tf\\lib\\site-packages\\tensorflow\\python\\util\\nest.py\u001B[0m in \u001B[0;36mmap_structure\u001B[1;34m(func, *structure, **kwargs)\u001B[0m\n\u001B[0;32m    867\u001B[0m \u001B[1;33m\u001B[0m\u001B[0m\n\u001B[0;32m    868\u001B[0m   return pack_sequence_as(\n\u001B[1;32m--> 869\u001B[1;33m       \u001B[0mstructure\u001B[0m\u001B[1;33m[\u001B[0m\u001B[1;36m0\u001B[0m\u001B[1;33m]\u001B[0m\u001B[1;33m,\u001B[0m \u001B[1;33m[\u001B[0m\u001B[0mfunc\u001B[0m\u001B[1;33m(\u001B[0m\u001B[1;33m*\u001B[0m\u001B[0mx\u001B[0m\u001B[1;33m)\u001B[0m \u001B[1;32mfor\u001B[0m \u001B[0mx\u001B[0m \u001B[1;32min\u001B[0m \u001B[0mentries\u001B[0m\u001B[1;33m]\u001B[0m\u001B[1;33m,\u001B[0m\u001B[1;33m\u001B[0m\u001B[1;33m\u001B[0m\u001B[0m\n\u001B[0m\u001B[0;32m    870\u001B[0m       expand_composites=expand_composites)\n\u001B[0;32m    871\u001B[0m \u001B[1;33m\u001B[0m\u001B[0m\n",
      "\u001B[1;32m~\\anaconda3\\envs\\tf\\lib\\site-packages\\tensorflow\\python\\util\\nest.py\u001B[0m in \u001B[0;36m<listcomp>\u001B[1;34m(.0)\u001B[0m\n\u001B[0;32m    867\u001B[0m \u001B[1;33m\u001B[0m\u001B[0m\n\u001B[0;32m    868\u001B[0m   return pack_sequence_as(\n\u001B[1;32m--> 869\u001B[1;33m       \u001B[0mstructure\u001B[0m\u001B[1;33m[\u001B[0m\u001B[1;36m0\u001B[0m\u001B[1;33m]\u001B[0m\u001B[1;33m,\u001B[0m \u001B[1;33m[\u001B[0m\u001B[0mfunc\u001B[0m\u001B[1;33m(\u001B[0m\u001B[1;33m*\u001B[0m\u001B[0mx\u001B[0m\u001B[1;33m)\u001B[0m \u001B[1;32mfor\u001B[0m \u001B[0mx\u001B[0m \u001B[1;32min\u001B[0m \u001B[0mentries\u001B[0m\u001B[1;33m]\u001B[0m\u001B[1;33m,\u001B[0m\u001B[1;33m\u001B[0m\u001B[1;33m\u001B[0m\u001B[0m\n\u001B[0m\u001B[0;32m    870\u001B[0m       expand_composites=expand_composites)\n\u001B[0;32m    871\u001B[0m \u001B[1;33m\u001B[0m\u001B[0m\n",
      "\u001B[1;32m~\\anaconda3\\envs\\tf\\lib\\site-packages\\keras\\utils\\tf_utils.py\u001B[0m in \u001B[0;36m_to_single_numpy_or_python_type\u001B[1;34m(t)\u001B[0m\n\u001B[0;32m    548\u001B[0m   \u001B[1;32mdef\u001B[0m \u001B[0m_to_single_numpy_or_python_type\u001B[0m\u001B[1;33m(\u001B[0m\u001B[0mt\u001B[0m\u001B[1;33m)\u001B[0m\u001B[1;33m:\u001B[0m\u001B[1;33m\u001B[0m\u001B[1;33m\u001B[0m\u001B[0m\n\u001B[0;32m    549\u001B[0m     \u001B[1;32mif\u001B[0m \u001B[0misinstance\u001B[0m\u001B[1;33m(\u001B[0m\u001B[0mt\u001B[0m\u001B[1;33m,\u001B[0m \u001B[0mtf\u001B[0m\u001B[1;33m.\u001B[0m\u001B[0mTensor\u001B[0m\u001B[1;33m)\u001B[0m\u001B[1;33m:\u001B[0m\u001B[1;33m\u001B[0m\u001B[1;33m\u001B[0m\u001B[0m\n\u001B[1;32m--> 550\u001B[1;33m       \u001B[0mx\u001B[0m \u001B[1;33m=\u001B[0m \u001B[0mt\u001B[0m\u001B[1;33m.\u001B[0m\u001B[0mnumpy\u001B[0m\u001B[1;33m(\u001B[0m\u001B[1;33m)\u001B[0m\u001B[1;33m\u001B[0m\u001B[1;33m\u001B[0m\u001B[0m\n\u001B[0m\u001B[0;32m    551\u001B[0m       \u001B[1;32mreturn\u001B[0m \u001B[0mx\u001B[0m\u001B[1;33m.\u001B[0m\u001B[0mitem\u001B[0m\u001B[1;33m(\u001B[0m\u001B[1;33m)\u001B[0m \u001B[1;32mif\u001B[0m \u001B[0mnp\u001B[0m\u001B[1;33m.\u001B[0m\u001B[0mndim\u001B[0m\u001B[1;33m(\u001B[0m\u001B[0mx\u001B[0m\u001B[1;33m)\u001B[0m \u001B[1;33m==\u001B[0m \u001B[1;36m0\u001B[0m \u001B[1;32melse\u001B[0m \u001B[0mx\u001B[0m\u001B[1;33m\u001B[0m\u001B[1;33m\u001B[0m\u001B[0m\n\u001B[0;32m    552\u001B[0m     \u001B[1;32mreturn\u001B[0m \u001B[0mt\u001B[0m  \u001B[1;31m# Don't turn ragged or sparse tensors to NumPy.\u001B[0m\u001B[1;33m\u001B[0m\u001B[1;33m\u001B[0m\u001B[0m\n",
      "\u001B[1;32m~\\anaconda3\\envs\\tf\\lib\\site-packages\\tensorflow\\python\\framework\\ops.py\u001B[0m in \u001B[0;36mnumpy\u001B[1;34m(self)\u001B[0m\n\u001B[0;32m   1147\u001B[0m     \"\"\"\n\u001B[0;32m   1148\u001B[0m     \u001B[1;31m# TODO(slebedev): Consider avoiding a copy for non-CPU or remote tensors.\u001B[0m\u001B[1;33m\u001B[0m\u001B[1;33m\u001B[0m\u001B[0m\n\u001B[1;32m-> 1149\u001B[1;33m     \u001B[0mmaybe_arr\u001B[0m \u001B[1;33m=\u001B[0m \u001B[0mself\u001B[0m\u001B[1;33m.\u001B[0m\u001B[0m_numpy\u001B[0m\u001B[1;33m(\u001B[0m\u001B[1;33m)\u001B[0m  \u001B[1;31m# pylint: disable=protected-access\u001B[0m\u001B[1;33m\u001B[0m\u001B[1;33m\u001B[0m\u001B[0m\n\u001B[0m\u001B[0;32m   1150\u001B[0m     \u001B[1;32mreturn\u001B[0m \u001B[0mmaybe_arr\u001B[0m\u001B[1;33m.\u001B[0m\u001B[0mcopy\u001B[0m\u001B[1;33m(\u001B[0m\u001B[1;33m)\u001B[0m \u001B[1;32mif\u001B[0m \u001B[0misinstance\u001B[0m\u001B[1;33m(\u001B[0m\u001B[0mmaybe_arr\u001B[0m\u001B[1;33m,\u001B[0m \u001B[0mnp\u001B[0m\u001B[1;33m.\u001B[0m\u001B[0mndarray\u001B[0m\u001B[1;33m)\u001B[0m \u001B[1;32melse\u001B[0m \u001B[0mmaybe_arr\u001B[0m\u001B[1;33m\u001B[0m\u001B[1;33m\u001B[0m\u001B[0m\n\u001B[0;32m   1151\u001B[0m \u001B[1;33m\u001B[0m\u001B[0m\n",
      "\u001B[1;32m~\\anaconda3\\envs\\tf\\lib\\site-packages\\tensorflow\\python\\framework\\ops.py\u001B[0m in \u001B[0;36m_numpy\u001B[1;34m(self)\u001B[0m\n\u001B[0;32m   1113\u001B[0m   \u001B[1;32mdef\u001B[0m \u001B[0m_numpy\u001B[0m\u001B[1;33m(\u001B[0m\u001B[0mself\u001B[0m\u001B[1;33m)\u001B[0m\u001B[1;33m:\u001B[0m\u001B[1;33m\u001B[0m\u001B[1;33m\u001B[0m\u001B[0m\n\u001B[0;32m   1114\u001B[0m     \u001B[1;32mtry\u001B[0m\u001B[1;33m:\u001B[0m\u001B[1;33m\u001B[0m\u001B[1;33m\u001B[0m\u001B[0m\n\u001B[1;32m-> 1115\u001B[1;33m       \u001B[1;32mreturn\u001B[0m \u001B[0mself\u001B[0m\u001B[1;33m.\u001B[0m\u001B[0m_numpy_internal\u001B[0m\u001B[1;33m(\u001B[0m\u001B[1;33m)\u001B[0m\u001B[1;33m\u001B[0m\u001B[1;33m\u001B[0m\u001B[0m\n\u001B[0m\u001B[0;32m   1116\u001B[0m     \u001B[1;32mexcept\u001B[0m \u001B[0mcore\u001B[0m\u001B[1;33m.\u001B[0m\u001B[0m_NotOkStatusException\u001B[0m \u001B[1;32mas\u001B[0m \u001B[0me\u001B[0m\u001B[1;33m:\u001B[0m  \u001B[1;31m# pylint: disable=protected-access\u001B[0m\u001B[1;33m\u001B[0m\u001B[1;33m\u001B[0m\u001B[0m\n\u001B[0;32m   1117\u001B[0m       \u001B[1;32mraise\u001B[0m \u001B[0mcore\u001B[0m\u001B[1;33m.\u001B[0m\u001B[0m_status_to_exception\u001B[0m\u001B[1;33m(\u001B[0m\u001B[0me\u001B[0m\u001B[1;33m)\u001B[0m \u001B[1;32mfrom\u001B[0m \u001B[1;32mNone\u001B[0m  \u001B[1;31m# pylint: disable=protected-access\u001B[0m\u001B[1;33m\u001B[0m\u001B[1;33m\u001B[0m\u001B[0m\n",
      "\u001B[1;31mKeyboardInterrupt\u001B[0m: "
     ]
    }
   ],
   "source": [
    "model.fit(train_ds, validation_data=val_ds, epochs=Configuration.epochs)\n",
    "model.save(f'{Configuration.models_location}/{Configuration.model_name}.h5')"
   ],
   "metadata": {
    "collapsed": false,
    "pycharm": {
     "name": "#%%\n"
    }
   }
  },
  {
   "cell_type": "code",
   "execution_count": 7,
   "outputs": [
    {
     "name": "stdout",
     "output_type": "stream",
     "text": [
      "Downloading data from file:///C:\\Users\\thehe\\dev\\studies\\iui\\iui\\test_data\\2420\\c0_1_P43_X6xu_original_1618572393300.jpg\n",
      "16384/6297 [==============================================================================] - 0s 0s/step\n",
      "Downloading data from file:///C:\\Users\\thehe\\dev\\studies\\iui\\iui\\test_data\\2420\\P43_56dz_P43_1618572375827.jpg\n",
      "16384/11381 [===========================================] - 0s 0s/step\n",
      "24576/11381 [================================================================] - 0s 0us/step\n",
      "Downloading data from file:///C:\\Users\\thehe\\dev\\studies\\iui\\iui\\test_data\\2420\\P43_TDGu_P43_1618572365712.jpg\n",
      "16384/15229 [================================] - 0s 0s/step\n",
      "24576/15229 [================================================] - 0s 0us/step\n",
      "Downloading data from file:///C:\\Users\\thehe\\dev\\studies\\iui\\iui\\test_data\\43713\\B2_nMPI_B2_1618996575203.jpg\n",
      "49152/47887 [==============================] - 0s 0s/step\n",
      "57344/47887 [===================================] - 0s 0us/step\n",
      "Downloading data from file:///C:\\Users\\thehe\\dev\\studies\\iui\\iui\\test_data\\43713\\B2_W9U4_B2_1618996605608.jpg\n",
      "40960/37692 [================================] - 0s 0s/step\n",
      "49152/37692 [=======================================] - 0s 0us/step\n",
      "Downloading data from file:///C:\\Users\\thehe\\dev\\studies\\iui\\iui\\test_data\\43719\\c0_2_P8_RUY6_original_1619088491932.jpg\n",
      "32768/30047 [================================] - 0s 0s/step\n",
      "40960/30047 [========================================] - 0s 0us/step\n",
      "Downloading data from file:///C:\\Users\\thehe\\dev\\studies\\iui\\iui\\test_data\\43719\\P8_cGM2_P8_1619088524002.jpg\n",
      "24576/22457 [================================] - 0s 0s/step\n",
      "32768/22457 [===========================================] - 0s 0us/step\n",
      "Downloading data from file:///C:\\Users\\thehe\\dev\\studies\\iui\\iui\\test_data\\43898\\c0_1_F6_ImhL_original_1619600612424.jpg\n",
      "24576/17107 [===========================================] - 0s 0us/step\n",
      "32768/17107 [=========================================================] - 0s 0us/step\n",
      "Downloading data from file:///C:\\Users\\thehe\\dev\\studies\\iui\\iui\\test_data\\43898\\c2_2_F6_bcU4_original_1619600733320.jpg\n",
      "16384/14753 [=================================] - 0s 0s/step\n",
      "24576/14753 [=================================================] - 0s 0s/step\n",
      "Downloading data from file:///C:\\Users\\thehe\\dev\\studies\\iui\\iui\\test_data\\43898\\F6_dCiY_F6_1619600709872.jpg\n",
      "16384/11048 [============================================] - 0s 0s/step\n",
      "24576/11048 [==================================================================] - 0s 0s/step\n",
      "Downloading data from file:///C:\\Users\\thehe\\dev\\studies\\iui\\iui\\test_data\\4460b\\B15_jgxl_B15_1618305884455.jpg\n",
      "16384/5355 [===========================================================================================] - 0s 0s/step\n",
      "Downloading data from file:///C:\\Users\\thehe\\dev\\studies\\iui\\iui\\test_data\\4460b\\c0_1_B15_S80v_original_1618305890764.jpg\n",
      "16384/4507 [=============================================================================================================] - 0s 0s/step\n",
      "Downloading data from file:///C:\\Users\\thehe\\dev\\studies\\iui\\iui\\test_data\\88646\\c0_1_P42_Slsl_original_1618396704013.jpg\n",
      "32768/28380 [==================================] - 0s 0us/step\n",
      "40960/28380 [===========================================] - 0s 0us/step\n",
      "Downloading data from file:///C:\\Users\\thehe\\dev\\studies\\iui\\iui\\test_data\\915460\\35378_Bright Blue_0_1619488900.jpeg\n",
      "16384/6611 [==========================================================================] - 0s 0s/step\n",
      "Downloading data from file:///C:\\Users\\thehe\\dev\\studies\\iui\\iui\\test_data\\915460\\35378_Bright Blue_1_1619488901.jpeg\n",
      "16384/8846 [=======================================================] - 0s 0s/step\n",
      "24576/8846 [===================================================================================] - 0s 0us/step\n",
      "Downloading data from file:///C:\\Users\\thehe\\dev\\studies\\iui\\iui\\test_data\\915460\\35378_Bright Blue_2_1619488902.jpeg\n",
      "16384/12583 [=======================================] - 0s 0s/step\n",
      "24576/12583 [==========================================================] - 0s 0us/step\n",
      "Downloading data from file:///C:\\Users\\thehe\\dev\\studies\\iui\\iui\\test_data\\915460\\35378_Bright Blue_3_1619488903.jpeg\n",
      "16384/12663 [======================================] - 0s 0s/step\n",
      "24576/12663 [==========================================================] - 0s 0us/step\n",
      "Downloading data from file:///C:\\Users\\thehe\\dev\\studies\\iui\\iui\\test_data\\915460\\35378_Bright Blue_4_1619488904.jpeg\n",
      "16384/10054 [================================================] - 0s 0s/step\n",
      "24576/10054 [=========================================================================] - 0s 0us/step\n",
      "Downloading data from file:///C:\\Users\\thehe\\dev\\studies\\iui\\iui\\test_data\\915460\\35378_Bright Blue_5_1619488904.jpeg\n",
      "16384/7310 [===================================================================] - 0s 0s/step\n",
      "Downloading data from file:///C:\\Users\\thehe\\dev\\studies\\iui\\iui\\test_data\\915460\\35378_Flame Yellowish Orange_0_1619489748.jpeg\n",
      "16384/7142 [====================================================================] - 0s 0s/step\n",
      "Downloading data from file:///C:\\Users\\thehe\\dev\\studies\\iui\\iui\\test_data\\915460\\35378_Flame Yellowish Orange_0_1619672537.jpeg\n",
      "16384/9036 [======================================================] - 0s 0s/step\n",
      "24576/9036 [=================================================================================] - 0s 0us/step\n",
      "Downloading data from file:///C:\\Users\\thehe\\dev\\studies\\iui\\iui\\test_data\\915460\\35378_Flame Yellowish Orange_1_1619489749.jpeg\n",
      "16384/9739 [==================================================] - 0s 0s/step\n",
      "24576/9739 [===========================================================================] - 0s 0s/step\n",
      "Downloading data from file:///C:\\Users\\thehe\\dev\\studies\\iui\\iui\\test_data\\915460\\35378_Flame Yellowish Orange_1_1619672537.jpeg\n",
      "16384/13660 [===================================] - 0s 0s/step\n",
      "24576/13660 [=====================================================] - 0s 0s/step\n",
      "Downloading data from file:///C:\\Users\\thehe\\dev\\studies\\iui\\iui\\test_data\\915460\\35378_Flame Yellowish Orange_2_1619489750.jpeg\n",
      "16384/15454 [===============================] - 0s 0s/step\n",
      "24576/15454 [===============================================] - 0s 0us/step\n",
      "Downloading data from file:///C:\\Users\\thehe\\dev\\studies\\iui\\iui\\test_data\\915460\\35378_Flame Yellowish Orange_2_1619672537.jpeg\n",
      "32768/27312 [===================================] - 0s 0s/step\n",
      "40960/27312 [============================================] - 0s 0us/step\n",
      "Downloading data from file:///C:\\Users\\thehe\\dev\\studies\\iui\\iui\\test_data\\915460\\35378_Flame Yellowish Orange_3_1619489751.jpeg\n",
      "16384/12322 [=======================================] - 0s 0s/step\n",
      "24576/12322 [===========================================================] - 0s 0us/step\n",
      "Downloading data from file:///C:\\Users\\thehe\\dev\\studies\\iui\\iui\\test_data\\915460\\35378_Flame Yellowish Orange_3_1619672538.jpeg\n",
      "32768/31672 [===============================] - 0s 0us/step\n",
      "40960/31672 [======================================] - 0s 0us/step\n",
      "Downloading data from file:///C:\\Users\\thehe\\dev\\studies\\iui\\iui\\test_data\\915460\\35378_Flame Yellowish Orange_4_1619489752.jpeg\n",
      "16384/8348 [==========================================================] - 0s 0s/step\n",
      "24576/8348 [========================================================================================] - 0s 0us/step\n",
      "Downloading data from file:///C:\\Users\\thehe\\dev\\studies\\iui\\iui\\test_data\\915460\\35378_Flame Yellowish Orange_4_1619672538.jpeg\n",
      "24576/17352 [==========================================] - 0s 0us/step\n",
      "32768/17352 [========================================================] - 0s 0us/step\n",
      "Downloading data from file:///C:\\Users\\thehe\\dev\\studies\\iui\\iui\\test_data\\915460\\35378_Flame Yellowish Orange_5_1619489752.jpeg\n",
      "16384/5883 [===================================================================================] - 0s 0s/step\n",
      "Downloading data from file:///C:\\Users\\thehe\\dev\\studies\\iui\\iui\\test_data\\915460\\35378_Flame Yellowish Orange_5_1619672539.jpeg\n",
      "16384/11002 [============================================] - 0s 0s/step\n",
      "24576/11002 [===================================================================] - 0s 0us/step\n",
      "Downloading data from file:///C:\\Users\\thehe\\dev\\studies\\iui\\iui\\test_data\\92907\\c0_2_Gsui_original-T23_1621411488451.jpg\n",
      "16384/15650 [===============================] - 0s 0s/step\n",
      "24576/15650 [===============================================] - 0s 0us/step\n",
      "Downloading data from file:///C:\\Users\\thehe\\dev\\studies\\iui\\iui\\test_data\\92907\\Gsui_T23_1621411488449.jpg\n",
      "16384/15669 [===============================] - 0s 0s/step\n",
      "24576/15669 [===============================================] - 0s 0us/step\n",
      "Downloading data from file:///C:\\Users\\thehe\\dev\\studies\\iui\\iui\\test_data\\99206\\c0_2_P50_X4CK_original_1618572926084.jpg\n",
      "32768/29750 [=================================] - 0s 0s/step\n",
      "40960/29750 [=========================================] - 0s 0us/step\n",
      "Downloading data from file:///C:\\Users\\thehe\\dev\\studies\\iui\\iui\\test_data\\99206\\P50_qfvt_P50_1618572908694.jpg\n",
      "16384/15169 [================================] - 0s 0s/step\n",
      "24576/15169 [================================================] - 0s 0s/step\n",
      "                                             image   class prediction Correct\n",
      "0         c0_1_P43_X6xu_original_1618572393300.jpg    2420      10197      No\n",
      "1                   P43_56dz_P43_1618572375827.jpg    2420      10197      No\n",
      "2                   P43_TDGu_P43_1618572365712.jpg    2420      10197      No\n",
      "3                     B2_nMPI_B2_1618996575203.jpg   43713      10197      No\n",
      "4                     B2_W9U4_B2_1618996605608.jpg   43713      10197      No\n",
      "5          c0_2_P8_RUY6_original_1619088491932.jpg   43719      10197      No\n",
      "6                     P8_cGM2_P8_1619088524002.jpg   43719      10197      No\n",
      "7          c0_1_F6_ImhL_original_1619600612424.jpg   43898      10197      No\n",
      "8          c2_2_F6_bcU4_original_1619600733320.jpg   43898      10197      No\n",
      "9                     F6_dCiY_F6_1619600709872.jpg   43898      10197      No\n",
      "10                  B15_jgxl_B15_1618305884455.jpg   4460b      10197      No\n",
      "11        c0_1_B15_S80v_original_1618305890764.jpg   4460b      10197      No\n",
      "12        c0_1_P42_Slsl_original_1618396704013.jpg   88646      10197      No\n",
      "13             35378_Bright Blue_0_1619488900.jpeg  915460      10197      No\n",
      "14             35378_Bright Blue_1_1619488901.jpeg  915460      10197      No\n",
      "15             35378_Bright Blue_2_1619488902.jpeg  915460      10197      No\n",
      "16             35378_Bright Blue_3_1619488903.jpeg  915460      10197      No\n",
      "17             35378_Bright Blue_4_1619488904.jpeg  915460      10197      No\n",
      "18             35378_Bright Blue_5_1619488904.jpeg  915460      10197      No\n",
      "19  35378_Flame Yellowish Orange_0_1619489748.jpeg  915460      10197      No\n",
      "20  35378_Flame Yellowish Orange_0_1619672537.jpeg  915460      10197      No\n",
      "21  35378_Flame Yellowish Orange_1_1619489749.jpeg  915460      10197      No\n",
      "22  35378_Flame Yellowish Orange_1_1619672537.jpeg  915460      10197      No\n",
      "23  35378_Flame Yellowish Orange_2_1619489750.jpeg  915460      10197      No\n",
      "24  35378_Flame Yellowish Orange_2_1619672537.jpeg  915460      10197      No\n",
      "25  35378_Flame Yellowish Orange_3_1619489751.jpeg  915460      10197      No\n",
      "26  35378_Flame Yellowish Orange_3_1619672538.jpeg  915460      10197      No\n",
      "27  35378_Flame Yellowish Orange_4_1619489752.jpeg  915460      10197      No\n",
      "28  35378_Flame Yellowish Orange_4_1619672538.jpeg  915460      10197      No\n",
      "29  35378_Flame Yellowish Orange_5_1619489752.jpeg  915460      10197      No\n",
      "30  35378_Flame Yellowish Orange_5_1619672539.jpeg  915460      10197      No\n",
      "31        c0_2_Gsui_original-T23_1621411488451.jpg   92907      10197      No\n",
      "32                      Gsui_T23_1621411488449.jpg   92907      10197      No\n",
      "33        c0_2_P50_X4CK_original_1618572926084.jpg   99206      10197      No\n",
      "34                  P50_qfvt_P50_1618572908694.jpg   99206      10197      No\n",
      "Test results: 0 / 35 (0.00%)\n"
     ]
    }
   ],
   "source": [
    "TestingUtil.test_with_test_set(model, class_names)"
   ],
   "metadata": {
    "collapsed": false,
    "pycharm": {
     "name": "#%%\n"
    }
   }
  },
  {
   "cell_type": "code",
   "execution_count": 7,
   "outputs": [],
   "source": [],
   "metadata": {
    "collapsed": false,
    "pycharm": {
     "name": "#%%\n"
    }
   }
  }
 ],
 "metadata": {
  "kernelspec": {
   "display_name": "Python 3",
   "language": "python",
   "name": "python3"
  },
  "language_info": {
   "codemirror_mode": {
    "name": "ipython",
    "version": 2
   },
   "file_extension": ".py",
   "mimetype": "text/x-python",
   "name": "python",
   "nbconvert_exporter": "python",
   "pygments_lexer": "ipython2",
   "version": "2.7.6"
  }
 },
 "nbformat": 4,
 "nbformat_minor": 0
}