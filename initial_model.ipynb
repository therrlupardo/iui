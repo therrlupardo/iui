{
 "cells": [
  {
   "cell_type": "code",
   "execution_count": 1,
   "outputs": [],
   "source": [
    "import tensorflow as tf\n",
    "from tensorflow.keras import layers\n",
    "from tensorflow.keras.models import Sequential\n",
    "\n",
    "from utils import HelperUtils, Configuration"
   ],
   "metadata": {
    "collapsed": false,
    "pycharm": {
     "name": "#%%\n"
    }
   }
  },
  {
   "cell_type": "code",
   "execution_count": 2,
   "outputs": [
    {
     "name": "stdout",
     "output_type": "stream",
     "text": [
      "Downloading data from file:///C:\\Users\\thehe\\dev\\studies\\iui\\iui\\data\\simple.zip\n",
      "1741160448/1741154793 [==============================] - 2s 0us/step\n",
      "1741168640/1741154793 [==============================] - 2s 0us/step\n"
     ]
    }
   ],
   "source": [
    "initial_data_dir = HelperUtils.load_data('./data/simple.zip', \"initial_dataset\")\n",
    "HelperUtils.convert_dataset(initial_data_dir)"
   ],
   "metadata": {
    "collapsed": false,
    "pycharm": {
     "name": "#%%\n"
    }
   }
  },
  {
   "cell_type": "code",
   "execution_count": 3,
   "outputs": [],
   "source": [
    "# This only assigns labels that mean what callection brick belongs to. It does no assign exact brick number\n",
    "def prepare_datasets(data_dir):\n",
    "    train_ds = tf.keras.utils.image_dataset_from_directory(\n",
    "        data_dir,\n",
    "        validation_split=Configuration.validation_split,\n",
    "        subset=\"training\",\n",
    "        seed=123,\n",
    "        image_size=(Configuration.img_height, Configuration.img_width),\n",
    "        batch_size=Configuration.batch_size)\n",
    "\n",
    "    val_ds = tf.keras.utils.image_dataset_from_directory(\n",
    "        data_dir,\n",
    "        validation_split=Configuration.validation_split,\n",
    "        subset=\"validation\",\n",
    "        seed=123,\n",
    "        image_size=(Configuration.img_height, Configuration.img_width),\n",
    "        batch_size=Configuration.batch_size)\n",
    "\n",
    "    class_names = train_ds.class_names\n",
    "\n",
    "    num_classes = len(class_names)\n",
    "\n",
    "    # train_ds = train_ds.shuffle(500).batch(batch_size)\n",
    "    # val_ds = val_ds.shuffle(500).batch(batch_size)\n",
    "    return train_ds, val_ds, num_classes, class_names"
   ],
   "metadata": {
    "collapsed": false,
    "pycharm": {
     "name": "#%%\n"
    }
   }
  },
  {
   "cell_type": "code",
   "execution_count": 4,
   "outputs": [
    {
     "name": "stdout",
     "output_type": "stream",
     "text": [
      "Found 77638 files belonging to 433 classes.\n",
      "Using 62111 files for training.\n",
      "Found 77638 files belonging to 433 classes.\n",
      "Using 15527 files for validation.\n"
     ]
    }
   ],
   "source": [
    "initial_train_ds, initial_val_ds, initial_num_classes, class_names = prepare_datasets(initial_data_dir)"
   ],
   "metadata": {
    "collapsed": false,
    "pycharm": {
     "name": "#%%\n"
    }
   }
  },
  {
   "cell_type": "code",
   "execution_count": 5,
   "outputs": [
    {
     "name": "stdout",
     "output_type": "stream",
     "text": [
      "Model: \"sequential\"\n",
      "_________________________________________________________________\n",
      " Layer (type)                Output Shape              Param #   \n",
      "=================================================================\n",
      " rescaling (Rescaling)       (None, 180, 180, 3)       0         \n",
      "                                                                 \n",
      " conv2d (Conv2D)             (None, 180, 180, 16)      448       \n",
      "                                                                 \n",
      " max_pooling2d (MaxPooling2D  (None, 90, 90, 16)       0         \n",
      " )                                                               \n",
      "                                                                 \n",
      " conv2d_1 (Conv2D)           (None, 90, 90, 32)        4640      \n",
      "                                                                 \n",
      " max_pooling2d_1 (MaxPooling  (None, 45, 45, 32)       0         \n",
      " 2D)                                                             \n",
      "                                                                 \n",
      " conv2d_2 (Conv2D)           (None, 45, 45, 64)        18496     \n",
      "                                                                 \n",
      " max_pooling2d_2 (MaxPooling  (None, 22, 22, 64)       0         \n",
      " 2D)                                                             \n",
      "                                                                 \n",
      " flatten (Flatten)           (None, 30976)             0         \n",
      "                                                                 \n",
      " dense (Dense)               (None, 512)               15860224  \n",
      "                                                                 \n",
      " dense_1 (Dense)             (None, 433)               222129    \n",
      "                                                                 \n",
      "=================================================================\n",
      "Total params: 16,105,937\n",
      "Trainable params: 16,105,937\n",
      "Non-trainable params: 0\n",
      "_________________________________________________________________\n"
     ]
    }
   ],
   "source": [
    "model = Sequential([\n",
    "    layers.Rescaling(1. / 255, input_shape=(Configuration.img_height, Configuration.img_width, 3)),\n",
    "    layers.Conv2D(16, 3, padding='same', activation='relu'),\n",
    "    layers.MaxPooling2D(),\n",
    "    layers.Conv2D(32, 3, padding='same', activation='relu'),\n",
    "    layers.MaxPooling2D(),\n",
    "    layers.Conv2D(64, 3, padding='same', activation='relu'),\n",
    "    layers.MaxPooling2D(),\n",
    "    layers.Flatten(),\n",
    "    layers.Dense(512, activation='relu'),\n",
    "    layers.Dense(initial_num_classes)\n",
    "])\n",
    "\n",
    "model.compile(optimizer='adam',\n",
    "              loss=tf.keras.losses.SparseCategoricalCrossentropy(\n",
    "                  from_logits=True),\n",
    "              metrics=['accuracy'])\n",
    "\n",
    "model.summary()"
   ],
   "metadata": {
    "collapsed": false,
    "pycharm": {
     "name": "#%%\n"
    }
   }
  },
  {
   "cell_type": "code",
   "execution_count": null,
   "outputs": [
    {
     "name": "stdout",
     "output_type": "stream",
     "text": [
      "Epoch 1/10\n",
      "1941/1941 [==============================] - 66s 32ms/step - loss: 3.1772 - accuracy: 0.3285 - val_loss: 1.5258 - val_accuracy: 0.6054\n",
      "Epoch 2/10\n",
      "1941/1941 [==============================] - 38s 20ms/step - loss: 1.0399 - accuracy: 0.7178 - val_loss: 0.9539 - val_accuracy: 0.7443\n",
      "Epoch 3/10\n",
      "1941/1941 [==============================] - 39s 20ms/step - loss: 0.5048 - accuracy: 0.8547 - val_loss: 0.7814 - val_accuracy: 0.8059\n",
      "Epoch 4/10\n",
      "1941/1941 [==============================] - 38s 19ms/step - loss: 0.3008 - accuracy: 0.9085 - val_loss: 0.7982 - val_accuracy: 0.8188\n",
      "Epoch 5/10\n",
      "1941/1941 [==============================] - 38s 20ms/step - loss: 0.2084 - accuracy: 0.9352 - val_loss: 0.8271 - val_accuracy: 0.8277\n",
      "Epoch 6/10\n",
      "1939/1941 [============================>.] - ETA: 0s - loss: 0.1705 - accuracy: 0.9475"
     ]
    }
   ],
   "source": [
    "# logdir = os.path.join(\"logs\", datetime.datetime.now().strftime(\"%Y%m%d-%H%M%S\"))\n",
    "# tensorboard_callback = tf.keras.callbacks.TensorBoard(logdir, histogram_freq=1)\n",
    "\n",
    "# %load_ext tensorboard\n",
    "# %tensorboard --logdir logs\n",
    "\n",
    "history = model.fit(\n",
    "    initial_train_ds,\n",
    "    validation_data=initial_val_ds,\n",
    "    epochs=Configuration.epochs,\n",
    "    # callbacks=[tensorboard_callback]\n",
    ")\n",
    "\n",
    "model.save(f'{Configuration.models_location}/initial_model.h5')"
   ],
   "metadata": {
    "collapsed": false,
    "pycharm": {
     "name": "#%%\n",
     "is_executing": true
    }
   }
  },
  {
   "cell_type": "code",
   "execution_count": null,
   "outputs": [],
   "source": [
    "HelperUtils.test(model, class_names)"
   ],
   "metadata": {
    "collapsed": false,
    "pycharm": {
     "name": "#%%\n",
     "is_executing": true
    }
   }
  }
 ],
 "metadata": {
  "kernelspec": {
   "display_name": "Python 3",
   "language": "python",
   "name": "python3"
  },
  "language_info": {
   "codemirror_mode": {
    "name": "ipython",
    "version": 2
   },
   "file_extension": ".py",
   "mimetype": "text/x-python",
   "name": "python",
   "nbconvert_exporter": "python",
   "pygments_lexer": "ipython2",
   "version": "2.7.6"
  }
 },
 "nbformat": 4,
 "nbformat_minor": 0
}